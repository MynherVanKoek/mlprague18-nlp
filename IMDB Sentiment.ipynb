{
 "cells": [
  {
   "cell_type": "markdown",
   "metadata": {},
   "source": [
    "# Sentiment Analysis on IMDb Reviews"
   ]
  },
  {
   "cell_type": "code",
   "execution_count": 1,
   "metadata": {
    "collapsed": true
   },
   "outputs": [],
   "source": [
    "from __future__ import print_function, division"
   ]
  },
  {
   "cell_type": "markdown",
   "metadata": {},
   "source": [
    "Download and extract the IMDB sentiment dataset:\n",
    "    \n",
    "    wget http://ai.stanford.edu/~amaas/data/sentiment/aclImdb_v1.tar.gz\n",
    "    tar xfz aclImdb_v1.tar.gz"
   ]
  },
  {
   "cell_type": "markdown",
   "metadata": {},
   "source": [
    "First, we pre-process the dataset, converting each review to a sequence of word index numbers."
   ]
  },
  {
   "cell_type": "code",
   "execution_count": 2,
   "metadata": {},
   "outputs": [
    {
     "name": "stdout",
     "output_type": "stream",
     "text": [
      "5000 words in vocabulary\n"
     ]
    }
   ],
   "source": [
    "# Vocabulary: All words used, starting by the most frequent\n",
    "with open('aclImdb/imdb.vocab') as f:\n",
    "    vocab = [word.rstrip() for word in f]\n",
    "    # Keep only most frequent 5000 words rather than all 90000\n",
    "    # Just saving memory - the long tail occurs too few times\n",
    "    # for the model to learn anything anyway\n",
    "    vocab = vocab[:5000]\n",
    "    print('%d words in vocabulary' % (len(vocab),))"
   ]
  },
  {
   "cell_type": "code",
   "execution_count": 3,
   "metadata": {
    "collapsed": true
   },
   "outputs": [],
   "source": [
    "import re\n",
    "\n",
    "def text_tokens(text):\n",
    "    text = text.lower()\n",
    "    text = re.sub(\"\\\\s\", \" \", text)\n",
    "    text = re.sub(\"[^a-zA-Z' ]\", \"\", text)\n",
    "    tokens = text.split(' ')\n",
    "    return tokens"
   ]
  },
  {
   "cell_type": "code",
   "execution_count": 4,
   "metadata": {
    "collapsed": true
   },
   "outputs": [],
   "source": [
    "import os\n",
    "\n",
    "def load_dataset(dirname):\n",
    "    X, y = [], []\n",
    "    # Review files: neg/0_3.txt neg/10000_4.txt neg/10001_4.txt ...\n",
    "    for y_val, y_label in enumerate(['neg', 'pos']):\n",
    "        y_dir = os.path.join(dirname, y_label)\n",
    "        for fname in os.listdir(y_dir):\n",
    "            fpath = os.path.join(y_dir, fname)\n",
    "            # print('\\r' + fpath + '   ', end='')\n",
    "            with open(fpath) as f:\n",
    "                tokens = text_tokens(f.read())\n",
    "            X.append(tokens)\n",
    "            y.append(y_val)  # 0 for 'neg', 1 for 'pos'\n",
    "    print()\n",
    "    return X, y"
   ]
  },
  {
   "cell_type": "code",
   "execution_count": 5,
   "metadata": {
    "scrolled": true
   },
   "outputs": [
    {
     "name": "stdout",
     "output_type": "stream",
     "text": [
      "\n",
      "\n"
     ]
    }
   ],
   "source": [
    "X_train, y_train = load_dataset('aclImdb/train/')\n",
    "\n",
    "# We are cheating here - this is a test set, not a validation set.\n",
    "# This is just to make results quickly comparable to outside results\n",
    "# during the tutorial, but you should normally never use the test set\n",
    "# during training, of course!\n",
    "X_val, y_val = load_dataset('aclImdb/test/')"
   ]
  },
  {
   "cell_type": "code",
   "execution_count": 6,
   "metadata": {},
   "outputs": [
    {
     "data": {
      "text/plain": [
       "(25000, 25000)"
      ]
     },
     "execution_count": 6,
     "metadata": {},
     "output_type": "execute_result"
    }
   ],
   "source": [
    "len(X_train), len(X_val)"
   ]
  },
  {
   "cell_type": "markdown",
   "metadata": {},
   "source": [
    "## Bag-of-words Linear Model"
   ]
  },
  {
   "cell_type": "code",
   "execution_count": 7,
   "metadata": {
    "collapsed": true
   },
   "outputs": [],
   "source": [
    "def bow_onehot_vector(tokens):\n",
    "    vector = [0] * len(vocab)\n",
    "    for t in tokens:\n",
    "        try:\n",
    "            vector[vocab.index(t)] = 1\n",
    "        except:\n",
    "            pass  # ignore missing words\n",
    "    return vector"
   ]
  },
  {
   "cell_type": "code",
   "execution_count": 8,
   "metadata": {
    "collapsed": true
   },
   "outputs": [],
   "source": [
    "X_bow_train = [bow_onehot_vector(x) for x in X_train]\n",
    "X_bow_val = [bow_onehot_vector(x) for x in X_val]"
   ]
  },
  {
   "cell_type": "code",
   "execution_count": 9,
   "metadata": {
    "collapsed": true
   },
   "outputs": [],
   "source": [
    "def best_train_history(history):\n",
    "    best_epoch = np.argmax(history.history['val_acc'])\n",
    "    print('Accuracy (epoch %d): %.4f train, %.4f val' % \\\n",
    "          (best_epoch + 1, history.history['acc'][best_epoch], history.history['val_acc'][best_epoch]))\n",
    "# (Note that sentiment.model is the state after the last epoch rather than best epoch!\n",
    "# Use ModelCheckpointer to restore the best epoch.)"
   ]
  },
  {
   "cell_type": "code",
   "execution_count": 10,
   "metadata": {
    "scrolled": true
   },
   "outputs": [
    {
     "name": "stderr",
     "output_type": "stream",
     "text": [
      "Using TensorFlow backend.\n"
     ]
    },
    {
     "name": "stdout",
     "output_type": "stream",
     "text": [
      "_________________________________________________________________\n",
      "Layer (type)                 Output Shape              Param #   \n",
      "=================================================================\n",
      "bow_input (InputLayer)       (None, 5000)              0         \n",
      "_________________________________________________________________\n",
      "dense_1 (Dense)              (None, 1)                 5001      \n",
      "_________________________________________________________________\n",
      "activation_1 (Activation)    (None, 1)                 0         \n",
      "=================================================================\n",
      "Total params: 5,001\n",
      "Trainable params: 5,001\n",
      "Non-trainable params: 0\n",
      "_________________________________________________________________\n",
      "Fitting...\n",
      "['bow_input']\n",
      "['activation_1']\n",
      "['bow_input']\n",
      "['activation_1']\n",
      "Train on 25000 samples, validate on 25000 samples\n",
      "Epoch 1/10\n",
      "25000/25000 [==============================] - 6s 241us/step - loss: 0.4524 - acc: 0.8331 - val_loss: 0.3621 - val_acc: 0.8713\n",
      "Epoch 2/10\n",
      "25000/25000 [==============================] - 4s 151us/step - loss: 0.3132 - acc: 0.8880 - val_loss: 0.3164 - val_acc: 0.8794\n",
      "Epoch 3/10\n",
      "25000/25000 [==============================] - 4s 153us/step - loss: 0.2728 - acc: 0.9000 - val_loss: 0.3003 - val_acc: 0.8815\n",
      "Epoch 4/10\n",
      "25000/25000 [==============================] - 4s 150us/step - loss: 0.2501 - acc: 0.9080 - val_loss: 0.2938 - val_acc: 0.8815\n",
      "Epoch 5/10\n",
      "25000/25000 [==============================] - 4s 153us/step - loss: 0.2346 - acc: 0.9139 - val_loss: 0.2931 - val_acc: 0.8809\n",
      "Epoch 6/10\n",
      "25000/25000 [==============================] - 4s 169us/step - loss: 0.2233 - acc: 0.9178 - val_loss: 0.2916 - val_acc: 0.8807\n",
      "Epoch 7/10\n",
      "25000/25000 [==============================] - 4s 165us/step - loss: 0.2144 - acc: 0.9214 - val_loss: 0.2928 - val_acc: 0.8798\n",
      "Epoch 8/10\n",
      "25000/25000 [==============================] - 4s 154us/step - loss: 0.2068 - acc: 0.9246 - val_loss: 0.2958 - val_acc: 0.8789\n",
      "Epoch 9/10\n",
      "25000/25000 [==============================] - 4s 166us/step - loss: 0.2005 - acc: 0.9261 - val_loss: 0.2973 - val_acc: 0.8784\n",
      "Epoch 10/10\n",
      "25000/25000 [==============================] - 4s 168us/step - loss: 0.1956 - acc: 0.9297 - val_loss: 0.3010 - val_acc: 0.8770\n",
      "Accuracy (epoch 3): 0.9000 train, 0.8815 val\n"
     ]
    }
   ],
   "source": [
    "from keras.layers import Activation, Dense, Input\n",
    "from keras.models import Model\n",
    "import numpy as np\n",
    "\n",
    "class BOWSentimentModel(object):\n",
    "    def __init__(self):\n",
    "        bow = Input(shape=(len(vocab),), name='bow_input')\n",
    "        # weights of all inputs\n",
    "        sentiment = Dense(1)(bow)\n",
    "        # normalize to [0, 1] range\n",
    "        sentiment = Activation('sigmoid')(sentiment)\n",
    "\n",
    "        self.model = Model(inputs=[bow], outputs=[sentiment])\n",
    "        self.model.summary()\n",
    "        self.model.compile(optimizer='adam', loss='binary_crossentropy', metrics=['accuracy'])\n",
    "\n",
    "    def train(self, X, y, X_val, y_val):\n",
    "        print('Fitting...')\n",
    "        return self.model.fit(np.array(X), y, validation_data=(np.array(X_val), y_val), epochs=10, verbose=1)\n",
    "\n",
    "    def predict(self, X):\n",
    "        return self.model.predict(np.array(X))\n",
    "    \n",
    "sentiment = BOWSentimentModel()\n",
    "history = sentiment.train(X_bow_train, y_train, X_bow_val, y_val)\n",
    "best_train_history(history)"
   ]
  },
  {
   "cell_type": "code",
   "execution_count": 11,
   "metadata": {},
   "outputs": [
    {
     "name": "stdout",
     "output_type": "stream",
     "text": [
      "['bow_input']\n",
      "Good story about a backwoods community in the Ozarks around the turn of the century. Moonshine is the leading industry, fighting and funning the major form of entertainment. One day a stranger enters the community and causes a shake-up among the locals. Beautiful scenery adds much to the story. [ 0.7639569]\n"
     ]
    }
   ],
   "source": [
    "test_text = 'Good story about a backwoods community in the Ozarks around the turn of the century. Moonshine is the leading industry, fighting and funning the major form of entertainment. One day a stranger enters the community and causes a shake-up among the locals. Beautiful scenery adds much to the story.'\n",
    "test_tokens = text_tokens(test_text)\n",
    "print(test_text, sentiment.predict([bow_onehot_vector(test_tokens)])[0])"
   ]
  },
  {
   "cell_type": "code",
   "execution_count": 12,
   "metadata": {
    "collapsed": true
   },
   "outputs": [],
   "source": [
    "import matplotlib.pyplot as plt\n",
    "def plot_train_history(history):\n",
    "    plt.figure()\n",
    "    plt.plot(history.history['acc'])\n",
    "    plt.plot(history.history['val_acc'])\n",
    "    plt.xlabel('epoch')\n",
    "    plt.ylabel('accuracy')\n",
    "    plt.legend(['acc', 'val_acc'])\n",
    "    plt.show()"
   ]
  },
  {
   "cell_type": "code",
   "execution_count": 13,
   "metadata": {},
   "outputs": [
    {
     "data": {
      "image/png": "[encoded data removed]",
      "text/plain": [
       "<matplotlib.figure.Figure at 0x7fbe00877050>"
      ]
     },
     "metadata": {},
     "output_type": "display_data"
    }
   ],
   "source": [
    "plot_train_history(history)"
   ]
  },
  {
   "cell_type": "markdown",
   "metadata": {},
   "source": [
    "### Bag-of-Words with Hidden Layer"
   ]
  },
  {
   "cell_type": "code",
   "execution_count": 14,
   "metadata": {
    "scrolled": true
   },
   "outputs": [
    {
     "name": "stdout",
     "output_type": "stream",
     "text": [
      "_________________________________________________________________\n",
      "Layer (type)                 Output Shape              Param #   \n",
      "=================================================================\n",
      "bow_input (InputLayer)       (None, 5000)              0         \n",
      "_________________________________________________________________\n",
      "dense_2 (Dense)              (None, 64)                320064    \n",
      "_________________________________________________________________\n",
      "dense_3 (Dense)              (None, 1)                 65        \n",
      "=================================================================\n",
      "Total params: 320,129\n",
      "Trainable params: 320,129\n",
      "Non-trainable params: 0\n",
      "_________________________________________________________________\n",
      "Fitting...\n",
      "['bow_input']\n",
      "['dense_3']\n",
      "['bow_input']\n",
      "['dense_3']\n",
      "Train on 25000 samples, validate on 25000 samples\n",
      "Epoch 1/10\n",
      "25000/25000 [==============================] - 5s 202us/step - loss: 0.3288 - acc: 0.8603 - val_loss: 0.3015 - val_acc: 0.8716\n",
      "Epoch 2/10\n",
      "25000/25000 [==============================] - 4s 167us/step - loss: 0.2355 - acc: 0.9034 - val_loss: 0.3123 - val_acc: 0.8681\n",
      "Epoch 3/10\n",
      "25000/25000 [==============================] - 5s 186us/step - loss: 0.2022 - acc: 0.9166 - val_loss: 0.3357 - val_acc: 0.8622\n",
      "Epoch 4/10\n",
      "25000/25000 [==============================] - 4s 180us/step - loss: 0.1786 - acc: 0.9287 - val_loss: 0.3396 - val_acc: 0.8639\n",
      "Epoch 5/10\n",
      "25000/25000 [==============================] - 4s 167us/step - loss: 0.1515 - acc: 0.9400 - val_loss: 0.3764 - val_acc: 0.8614\n",
      "Epoch 6/10\n",
      "25000/25000 [==============================] - 5s 181us/step - loss: 0.1226 - acc: 0.9529 - val_loss: 0.4110 - val_acc: 0.8582\n",
      "Epoch 7/10\n",
      "25000/25000 [==============================] - 4s 179us/step - loss: 0.0916 - acc: 0.9665 - val_loss: 0.4509 - val_acc: 0.8571\n",
      "Epoch 8/10\n",
      "25000/25000 [==============================] - 4s 168us/step - loss: 0.0634 - acc: 0.9796 - val_loss: 0.5089 - val_acc: 0.8516\n",
      "Epoch 9/10\n",
      "25000/25000 [==============================] - 4s 167us/step - loss: 0.0400 - acc: 0.9898 - val_loss: 0.5814 - val_acc: 0.8519\n",
      "Epoch 10/10\n",
      "25000/25000 [==============================] - 5s 186us/step - loss: 0.0238 - acc: 0.9952 - val_loss: 0.6323 - val_acc: 0.8505\n",
      "Accuracy (epoch 1): 0.8603 train, 0.8716 val\n"
     ]
    }
   ],
   "source": [
    "from keras.layers import Activation, Dense, Input\n",
    "from keras.models import Model\n",
    "import numpy as np\n",
    "\n",
    "class BOWHiddenSentimentModel(object):\n",
    "    def __init__(self, N=64):\n",
    "        bow = Input(shape=(len(vocab),), name='bow_input')\n",
    "        hidden = Dense(N, activation='tanh')(bow)\n",
    "        sentiment = Dense(1, activation='sigmoid')(hidden)\n",
    "\n",
    "        self.model = Model(inputs=[bow], outputs=[sentiment])\n",
    "        self.model.summary()\n",
    "        self.model.compile(optimizer='adam', loss='binary_crossentropy', metrics=['accuracy'])\n",
    "\n",
    "    def train(self, X, y, X_val, y_val):\n",
    "        print('Fitting...')\n",
    "        return self.model.fit(np.array(X), y, validation_data=(np.array(X_val), y_val), epochs=10, verbose=1)\n",
    "\n",
    "    def predict(self, X):\n",
    "        return self.model.predict(np.array(X))\n",
    "    \n",
    "sentiment = BOWHiddenSentimentModel()\n",
    "history = sentiment.train(X_bow_train, y_train, X_bow_val, y_val)\n",
    "best_train_history(history)"
   ]
  },
  {
   "cell_type": "code",
   "execution_count": 15,
   "metadata": {},
   "outputs": [
    {
     "data": {
      "image/png": "[encoded data removed]",
      "text/plain": [
       "<matplotlib.figure.Figure at 0x7fbd1746bcd0>"
      ]
     },
     "metadata": {},
     "output_type": "display_data"
    }
   ],
   "source": [
    "plot_train_history(history)"
   ]
  },
  {
   "cell_type": "markdown",
   "metadata": {},
   "source": [
    "Overfitting!  Ideas:\n",
    "  * Apply dropout\n",
    "  * L2-regularize the weights of the hidden layer\n",
    "  * Different N values?\n",
    "  * Multiple hidden layers, with different activation?\n",
    "  * tf-idf !\n",
    "  \n",
    "Can anyone fix the bag-of-words model?"
   ]
  },
  {
   "cell_type": "code",
   "execution_count": 16,
   "metadata": {
    "scrolled": true
   },
   "outputs": [
    {
     "name": "stdout",
     "output_type": "stream",
     "text": [
      "_________________________________________________________________\n",
      "Layer (type)                 Output Shape              Param #   \n",
      "=================================================================\n",
      "bow_input (InputLayer)       (None, 5000)              0         \n",
      "_________________________________________________________________\n",
      "dense_4 (Dense)              (None, 128)               640128    \n",
      "_________________________________________________________________\n",
      "dropout_1 (Dropout)          (None, 128)               0         \n",
      "_________________________________________________________________\n",
      "dense_5 (Dense)              (None, 1)                 129       \n",
      "=================================================================\n",
      "Total params: 640,257\n",
      "Trainable params: 640,257\n",
      "Non-trainable params: 0\n",
      "_________________________________________________________________\n",
      "Fitting...\n",
      "['bow_input']\n",
      "['dense_5']\n",
      "['bow_input']\n",
      "['dense_5']\n",
      "Train on 25000 samples, validate on 25000 samples\n",
      "Epoch 1/10\n",
      "25000/25000 [==============================] - 5s 195us/step - loss: 0.4958 - acc: 0.8481 - val_loss: 0.4592 - val_acc: 0.8628\n",
      "Epoch 2/10\n",
      "25000/25000 [==============================] - 5s 186us/step - loss: 0.4398 - acc: 0.8758 - val_loss: 0.4450 - val_acc: 0.8684\n",
      "Epoch 3/10\n",
      "25000/25000 [==============================] - 5s 191us/step - loss: 0.4247 - acc: 0.8797 - val_loss: 0.4358 - val_acc: 0.8673\n",
      "Epoch 4/10\n",
      "25000/25000 [==============================] - 5s 194us/step - loss: 0.4172 - acc: 0.8786 - val_loss: 0.4341 - val_acc: 0.8688\n",
      "Epoch 5/10\n",
      "25000/25000 [==============================] - 5s 181us/step - loss: 0.4061 - acc: 0.8806 - val_loss: 0.4229 - val_acc: 0.8703\n",
      "Epoch 6/10\n",
      "25000/25000 [==============================] - 5s 191us/step - loss: 0.3995 - acc: 0.8823 - val_loss: 0.4275 - val_acc: 0.8681\n",
      "Epoch 7/10\n",
      "25000/25000 [==============================] - 5s 182us/step - loss: 0.3896 - acc: 0.8869 - val_loss: 0.4179 - val_acc: 0.8706\n",
      "Epoch 8/10\n",
      "25000/25000 [==============================] - 5s 192us/step - loss: 0.3840 - acc: 0.8861 - val_loss: 0.4130 - val_acc: 0.8704\n",
      "Epoch 9/10\n",
      "25000/25000 [==============================] - 5s 183us/step - loss: 0.3799 - acc: 0.8870 - val_loss: 0.4285 - val_acc: 0.8631\n",
      "Epoch 10/10\n",
      "25000/25000 [==============================] - 5s 181us/step - loss: 0.3741 - acc: 0.8876 - val_loss: 0.4163 - val_acc: 0.8664\n",
      "Accuracy (epoch 7): 0.8869 train, 0.8706 val\n"
     ]
    }
   ],
   "source": [
    "from keras.layers import Activation, Dense, Dropout, Input\n",
    "from keras.models import Model\n",
    "from keras import regularizers\n",
    "import numpy as np\n",
    "\n",
    "class BOWHiddenRegularizedSentimentModel(object):\n",
    "    def __init__(self, N=128):\n",
    "        bow = Input(shape=(len(vocab),), name='bow_input')\n",
    "        hidden = Dropout(0.5)(Dense(N, kernel_regularizer=regularizers.l2(1e-3))(bow))\n",
    "        sentiment = Dense(1, activation='sigmoid')(hidden)\n",
    "\n",
    "        self.model = Model(inputs=[bow], outputs=[sentiment])\n",
    "        self.model.summary()\n",
    "        self.model.compile(optimizer='adam', loss='binary_crossentropy', metrics=['accuracy'])\n",
    "\n",
    "    def train(self, X, y, X_val, y_val):\n",
    "        print('Fitting...')\n",
    "        return self.model.fit(np.array(X), y, validation_data=(np.array(X_val), y_val), epochs=10, verbose=1)\n",
    "\n",
    "    def predict(self, X):\n",
    "        return self.model.predict(np.array(X))\n",
    "    \n",
    "sentiment = BOWHiddenRegularizedSentimentModel()\n",
    "history = sentiment.train(X_bow_train, y_train, X_bow_val, y_val)\n",
    "best_train_history(history)"
   ]
  },
  {
   "cell_type": "markdown",
   "metadata": {},
   "source": [
    "## GloVe-based Model (let's start with averaging)"
   ]
  },
  {
   "cell_type": "markdown",
   "metadata": {},
   "source": [
    "Download and extract the official pre-trained GloVe matrix:\n",
    "\n",
    "    https://nlp.stanford.edu/data/glove.6B.zip\n",
    "    unzip glove.6B.zip\n",
    "    \n",
    "We decided to use GloVe over word2vec as in our experience, GloVe carries word semantics better and works better in semantic-sensitive tasks.  But the difference is not huge."
   ]
  },
  {
   "cell_type": "markdown",
   "metadata": {},
   "source": [
    "### Loading GloVe vocabulary"
   ]
  },
  {
   "cell_type": "markdown",
   "metadata": {},
   "source": [
    "You may need to restart your kernel here if you don't have a lot of free memory, to get rid of the bag-of-words vectors from before."
   ]
  },
  {
   "cell_type": "code",
   "execution_count": 17,
   "metadata": {
    "collapsed": true
   },
   "outputs": [],
   "source": [
    "# Embedding dimension means how many elements each word vector has.\n",
    "# Common values are 50 and 300.  Generally, larger vectors have more\n",
    "# capacity to carry information (meaning).  But the training process\n",
    "# is slower, both vectors and further layers take more memory, and\n",
    "# there could be higher risk of overfitting.\n",
    "EMBEDDING_DIM = 50"
   ]
  },
  {
   "cell_type": "code",
   "execution_count": 18,
   "metadata": {},
   "outputs": [
    {
     "name": "stdout",
     "output_type": "stream",
     "text": [
      "Found 400000 word vectors.\n"
     ]
    }
   ],
   "source": [
    "# let's create a dictionary of each word in the pre-trained GloVe embeddings, saving its location indexes \n",
    "import os\n",
    "GLOVE_DIR = \".\"\n",
    "embeddings_index = {}\n",
    "f = open(os.path.join(GLOVE_DIR, 'glove.6B.%dd.txt' % EMBEDDING_DIM))\n",
    "for line in f:\n",
    "    values = line.split()\n",
    "    word = values[0]\n",
    "    coefs = np.asarray(values[1:], dtype='float32')\n",
    "    embeddings_index[word] = coefs\n",
    "f.close()\n",
    "\n",
    "print('Found %s word vectors.' % len(embeddings_index))"
   ]
  },
  {
   "cell_type": "code",
   "execution_count": 19,
   "metadata": {
    "collapsed": true
   },
   "outputs": [],
   "source": [
    "# a matrix that is indexed by our vocabulary, containing\n",
    "# GloVe embedding for each vocabulary element\n",
    "embedding_matrix = np.zeros((len(vocab) + 1, EMBEDDING_DIM))\n",
    "for i, word in enumerate(vocab):\n",
    "    embedding_vector = embeddings_index.get(word)\n",
    "    if embedding_vector is not None:\n",
    "        # words not found in embedding index will be all-zeros.\n",
    "        # also, [0] is reserved for padding\n",
    "        embedding_matrix[i + 1] = embedding_vector"
   ]
  },
  {
   "cell_type": "markdown",
   "metadata": {},
   "source": [
    "Checking how many words have no pre-trained GloVe word embeddings:"
   ]
  },
  {
   "cell_type": "code",
   "execution_count": 20,
   "metadata": {},
   "outputs": [
    {
     "data": {
      "text/plain": [
       "0.0076"
      ]
     },
     "execution_count": 20,
     "metadata": {},
     "output_type": "execute_result"
    }
   ],
   "source": [
    "1. * np.count_nonzero(np.all(embedding_matrix == 0, axis=1)) / len(vocab)  # OOV portion"
   ]
  },
  {
   "cell_type": "markdown",
   "metadata": {},
   "source": [
    "We are representing reviews as sequences now.  However, each sequence must have the same length on the input in Keras.  We will pad shorter sequences by zeroes from right, but what should be the maximum sequence length?  Let's find a compromise."
   ]
  },
  {
   "cell_type": "code",
   "execution_count": 21,
   "metadata": {},
   "outputs": [
    {
     "name": "stdout",
     "output_type": "stream",
     "text": [
      "Longest: 2470, Average: 233.778560, Median: 174, 90% percentile: 458 tokens\n"
     ]
    }
   ],
   "source": [
    "lengths = sorted([len(X) for X in X_train])\n",
    "percentile = 0.90\n",
    "seq_cutoff = lengths[int(len(lengths)*percentile)]\n",
    "print('Longest: %d, Average: %f, Median: %d, %d%% percentile: %d tokens' % (lengths[-1], np.mean(lengths), lengths[int(len(lengths)*0.5)], percentile*100, seq_cutoff))"
   ]
  },
  {
   "cell_type": "code",
   "execution_count": 22,
   "metadata": {
    "collapsed": true
   },
   "outputs": [],
   "source": [
    "def vocab_indices_vector(tokens):\n",
    "    vector = [0] * seq_cutoff\n",
    "    if len(tokens) > seq_cutoff:\n",
    "        # Remove the middle\n",
    "        tokens = tokens[: seq_cutoff // 2] + ['SINGLE_PADDING_IN_THE_MIDDLE'] + tokens[-seq_cutoff // 2 :]\n",
    "    for i, t in enumerate(tokens):\n",
    "        try:\n",
    "            vector[i] = vocab.index(t) + 1  # reserving 0 for padding\n",
    "        except:\n",
    "            pass  # ignore missing words\n",
    "    return vector"
   ]
  },
  {
   "cell_type": "code",
   "execution_count": 23,
   "metadata": {
    "collapsed": true
   },
   "outputs": [],
   "source": [
    "X_indices_train = [vocab_indices_vector(x) for x in X_train]\n",
    "X_indices_val = [vocab_indices_vector(x) for x in X_val]"
   ]
  },
  {
   "cell_type": "markdown",
   "metadata": {},
   "source": [
    "### GloVe averaging model"
   ]
  },
  {
   "cell_type": "code",
   "execution_count": 24,
   "metadata": {
    "scrolled": true
   },
   "outputs": [
    {
     "name": "stdout",
     "output_type": "stream",
     "text": [
      "_________________________________________________________________\n",
      "Layer (type)                 Output Shape              Param #   \n",
      "=================================================================\n",
      "seq_input (InputLayer)       (None, 458)               0         \n",
      "_________________________________________________________________\n",
      "embedding_1 (Embedding)      (None, 458, 50)           250050    \n",
      "_________________________________________________________________\n",
      "global_average_pooling1d_1 ( (None, 50)                0         \n",
      "_________________________________________________________________\n",
      "dense_6 (Dense)              (None, 1)                 51        \n",
      "=================================================================\n",
      "Total params: 250,101\n",
      "Trainable params: 51\n",
      "Non-trainable params: 250,050\n",
      "_________________________________________________________________\n",
      "Fitting...\n",
      "['seq_input']\n",
      "['dense_6']\n",
      "['seq_input']\n",
      "['dense_6']\n",
      "Train on 25000 samples, validate on 25000 samples\n",
      "Epoch 1/10\n",
      "25000/25000 [==============================] - 3s 133us/step - loss: 0.6879 - acc: 0.5726 - val_loss: 0.6785 - val_acc: 0.6280\n",
      "Epoch 2/10\n",
      "25000/25000 [==============================] - 3s 125us/step - loss: 0.6704 - acc: 0.6473 - val_loss: 0.6655 - val_acc: 0.6472\n",
      "Epoch 3/10\n",
      "25000/25000 [==============================] - 3s 125us/step - loss: 0.6581 - acc: 0.6589 - val_loss: 0.6551 - val_acc: 0.6557\n",
      "Epoch 4/10\n",
      "25000/25000 [==============================] - 3s 123us/step - loss: 0.6482 - acc: 0.6655 - val_loss: 0.6470 - val_acc: 0.6612\n",
      "Epoch 5/10\n",
      "25000/25000 [==============================] - 3s 124us/step - loss: 0.6402 - acc: 0.6713 - val_loss: 0.6401 - val_acc: 0.6670\n",
      "Epoch 6/10\n",
      "25000/25000 [==============================] - 3s 125us/step - loss: 0.6335 - acc: 0.6774 - val_loss: 0.6342 - val_acc: 0.6721\n",
      "Epoch 7/10\n",
      "25000/25000 [==============================] - 3s 124us/step - loss: 0.6276 - acc: 0.6819 - val_loss: 0.6291 - val_acc: 0.6760\n",
      "Epoch 8/10\n",
      "25000/25000 [==============================] - 3s 124us/step - loss: 0.6225 - acc: 0.6856 - val_loss: 0.6245 - val_acc: 0.6800\n",
      "Epoch 9/10\n",
      "25000/25000 [==============================] - 3s 125us/step - loss: 0.6178 - acc: 0.6881 - val_loss: 0.6203 - val_acc: 0.6847\n",
      "Epoch 10/10\n",
      "25000/25000 [==============================] - 3s 123us/step - loss: 0.6137 - acc: 0.6929 - val_loss: 0.6165 - val_acc: 0.6879\n",
      "Accuracy (epoch 10): 0.6929 train, 0.6879 val\n"
     ]
    }
   ],
   "source": [
    "from keras.layers import Activation, GlobalAveragePooling1D, Dense, Embedding, Input\n",
    "from keras.models import Model\n",
    "import numpy as np\n",
    "\n",
    "class GloveAvgSentimentModel(object):\n",
    "    def __init__(self):\n",
    "        self.model = self.create()\n",
    "        self.model.summary()\n",
    "        self.model.compile(optimizer='adam', loss='binary_crossentropy', metrics=['accuracy'])\n",
    "        \n",
    "    def create(self):\n",
    "        seq_indices = Input(shape=(seq_cutoff,), name='seq_input')                    \n",
    "        seq_embedded = Embedding(input_dim=len(vocab) + 1, output_dim=EMBEDDING_DIM, weights=[embedding_matrix],\n",
    "                                 input_length=seq_cutoff, trainable=False)(seq_indices)\n",
    "        avg_embedded = GlobalAveragePooling1D()(seq_embedded)\n",
    "        sentiment = Dense(1, activation='sigmoid')(avg_embedded)\n",
    "\n",
    "        return Model(inputs=[seq_indices], outputs=[sentiment])\n",
    "\n",
    "    def train(self, X, y, X_val, y_val):\n",
    "        print('Fitting...')\n",
    "        return self.model.fit(np.array(X, dtype='int32'), y,\n",
    "                              validation_data=(np.array(X_val, dtype='int32'), y_val), epochs=10, verbose=1)\n",
    "\n",
    "    def predict(self, X):\n",
    "        return self.model.predict(np.array(X))\n",
    "    \n",
    "sentiment = GloveAvgSentimentModel()\n",
    "history = sentiment.train(X_indices_train, y_train, X_indices_val, y_val)\n",
    "best_train_history(history)"
   ]
  },
  {
   "cell_type": "markdown",
   "metadata": {},
   "source": [
    "Questions:\n",
    "  * Predict sentiment from mean embedding, or mean sentiment from each embedding?\n",
    "  * Projection to a latent \"sentiment predictive\" vector space first?\n",
    "  \n",
    "Other ideas (for pretty much all further models):\n",
    "  * Trainable embeddings?\n",
    "  * ...what about embeddings from scratch, by the way?\n",
    "  * Just more epochs?\n",
    "\n",
    "Advanced idea:\n",
    "  * Could we visualize importance of individual words towards the predicted sentiment?"
   ]
  },
  {
   "cell_type": "markdown",
   "metadata": {},
   "source": [
    "### Maximum in a \"sentiment predictive\" space"
   ]
  },
  {
   "cell_type": "code",
   "execution_count": 25,
   "metadata": {
    "scrolled": true
   },
   "outputs": [
    {
     "name": "stdout",
     "output_type": "stream",
     "text": [
      "_________________________________________________________________\n",
      "Layer (type)                 Output Shape              Param #   \n",
      "=================================================================\n",
      "seq_input (InputLayer)       (None, 458)               0         \n",
      "_________________________________________________________________\n",
      "embedding_2 (Embedding)      (None, 458, 50)           250050    \n",
      "_________________________________________________________________\n",
      "dense_7 (Dense)              (None, 458, 64)           3264      \n",
      "_________________________________________________________________\n",
      "global_max_pooling1d_1 (Glob (None, 64)                0         \n",
      "_________________________________________________________________\n",
      "dense_8 (Dense)              (None, 1)                 65        \n",
      "=================================================================\n",
      "Total params: 253,379\n",
      "Trainable params: 3,329\n",
      "Non-trainable params: 250,050\n",
      "_________________________________________________________________\n",
      "Fitting...\n",
      "['seq_input']\n",
      "['dense_8']\n",
      "['seq_input']\n",
      "['dense_8']\n",
      "Train on 25000 samples, validate on 25000 samples\n",
      "Epoch 1/10\n",
      "25000/25000 [==============================] - 4s 155us/step - loss: 0.5546 - acc: 0.7292 - val_loss: 0.4599 - val_acc: 0.7936\n",
      "Epoch 2/10\n",
      "25000/25000 [==============================] - 4s 144us/step - loss: 0.4316 - acc: 0.8094 - val_loss: 0.4171 - val_acc: 0.8119\n",
      "Epoch 3/10\n",
      "25000/25000 [==============================] - 4s 145us/step - loss: 0.3946 - acc: 0.8284 - val_loss: 0.4106 - val_acc: 0.8125\n",
      "Epoch 4/10\n",
      "25000/25000 [==============================] - 4s 147us/step - loss: 0.3717 - acc: 0.8409 - val_loss: 0.3843 - val_acc: 0.8272\n",
      "Epoch 5/10\n",
      "25000/25000 [==============================] - 4s 146us/step - loss: 0.3566 - acc: 0.8474 - val_loss: 0.3786 - val_acc: 0.8289\n",
      "Epoch 6/10\n",
      "25000/25000 [==============================] - 4s 147us/step - loss: 0.3432 - acc: 0.8526 - val_loss: 0.3736 - val_acc: 0.8318\n",
      "Epoch 7/10\n",
      "25000/25000 [==============================] - 4s 147us/step - loss: 0.3328 - acc: 0.8572 - val_loss: 0.3817 - val_acc: 0.8264\n",
      "Epoch 8/10\n",
      "25000/25000 [==============================] - 4s 145us/step - loss: 0.3251 - acc: 0.8625 - val_loss: 0.3688 - val_acc: 0.8352\n",
      "Epoch 9/10\n",
      "25000/25000 [==============================] - 4s 144us/step - loss: 0.3184 - acc: 0.8652 - val_loss: 0.3665 - val_acc: 0.8362\n",
      "Epoch 10/10\n",
      "25000/25000 [==============================] - 4s 145us/step - loss: 0.3121 - acc: 0.8683 - val_loss: 0.3675 - val_acc: 0.8357\n",
      "Accuracy (epoch 9): 0.8652 train, 0.8362 val\n"
     ]
    }
   ],
   "source": [
    "from keras.layers import Activation, GlobalMaxPooling1D, Dense, Embedding, Input\n",
    "from keras.models import Model\n",
    "import numpy as np\n",
    "\n",
    "class GloveHiddenMaxSentimentModel(object):\n",
    "    def __init__(self, N=64):\n",
    "        self.model = self.create(N)\n",
    "        self.model.summary()\n",
    "        self.model.compile(optimizer='adam', loss='binary_crossentropy', metrics=['accuracy'])\n",
    "        \n",
    "    def create(self, N):\n",
    "        seq_indices = Input(shape=(seq_cutoff,), name='seq_input')                    \n",
    "        seq_embedded = Embedding(input_dim=len(vocab) + 1, output_dim=EMBEDDING_DIM, weights=[embedding_matrix],\n",
    "                                 input_length=seq_cutoff, trainable=False)(seq_indices)\n",
    "        seq_hidden = Dense(N, activation='tanh')(seq_embedded)\n",
    "        max_hidden = GlobalMaxPooling1D()(seq_hidden)\n",
    "        sentiment = Dense(1, activation='sigmoid')(max_hidden)\n",
    "\n",
    "        return Model(inputs=[seq_indices], outputs=[sentiment])\n",
    "\n",
    "    def train(self, X, y, X_val, y_val):\n",
    "        print('Fitting...')\n",
    "        return self.model.fit(np.array(X, dtype='int32'), y,\n",
    "                              validation_data=(np.array(X_val, dtype='int32'), y_val), epochs=10, verbose=1)\n",
    "\n",
    "    def predict(self, X):\n",
    "        return self.model.predict(np.array(X))\n",
    "    \n",
    "sentiment = GloveHiddenMaxSentimentModel()\n",
    "history = sentiment.train(X_indices_train, y_train, X_indices_val, y_val)\n",
    "best_train_history(history)"
   ]
  },
  {
   "cell_type": "markdown",
   "metadata": {},
   "source": [
    "Ideas:\n",
    "  * Averaging rather than maximum?\n",
    "  * Do other N values make a difference?"
   ]
  },
  {
   "cell_type": "markdown",
   "metadata": {},
   "source": [
    "## Convolutions on sequences of embeddings"
   ]
  },
  {
   "cell_type": "code",
   "execution_count": 26,
   "metadata": {
    "scrolled": true
   },
   "outputs": [
    {
     "name": "stdout",
     "output_type": "stream",
     "text": [
      "_________________________________________________________________\n",
      "Layer (type)                 Output Shape              Param #   \n",
      "=================================================================\n",
      "seq_input (InputLayer)       (None, 458)               0         \n",
      "_________________________________________________________________\n",
      "embedding_3 (Embedding)      (None, 458, 50)           250050    \n",
      "_________________________________________________________________\n",
      "conv1d_1 (Conv1D)            (None, 456, 64)           9664      \n",
      "_________________________________________________________________\n",
      "global_max_pooling1d_2 (Glob (None, 64)                0         \n",
      "_________________________________________________________________\n",
      "dense_9 (Dense)              (None, 64)                4160      \n",
      "_________________________________________________________________\n",
      "dense_10 (Dense)             (None, 1)                 65        \n",
      "=================================================================\n",
      "Total params: 263,939\n",
      "Trainable params: 13,889\n",
      "Non-trainable params: 250,050\n",
      "_________________________________________________________________\n",
      "Fitting...\n",
      "['seq_input']\n",
      "['dense_10']\n",
      "['seq_input']\n",
      "['dense_10']\n",
      "Train on 25000 samples, validate on 25000 samples\n",
      "Epoch 1/10\n",
      "25000/25000 [==============================] - 6s 240us/step - loss: 0.4946 - acc: 0.7489 - val_loss: 0.4146 - val_acc: 0.8111\n",
      "Epoch 2/10\n",
      "25000/25000 [==============================] - 4s 168us/step - loss: 0.3692 - acc: 0.8385 - val_loss: 0.3745 - val_acc: 0.8340\n",
      "Epoch 3/10\n",
      "25000/25000 [==============================] - 4s 167us/step - loss: 0.3295 - acc: 0.8583 - val_loss: 0.4009 - val_acc: 0.8249\n",
      "Epoch 4/10\n",
      "25000/25000 [==============================] - 4s 167us/step - loss: 0.3007 - acc: 0.8734 - val_loss: 0.3925 - val_acc: 0.8296\n",
      "Epoch 5/10\n",
      "25000/25000 [==============================] - 4s 167us/step - loss: 0.2730 - acc: 0.8872 - val_loss: 0.3785 - val_acc: 0.8374\n",
      "Epoch 6/10\n",
      "25000/25000 [==============================] - 4s 168us/step - loss: 0.2498 - acc: 0.8979 - val_loss: 0.3955 - val_acc: 0.8358\n",
      "Epoch 7/10\n",
      "25000/25000 [==============================] - 4s 167us/step - loss: 0.2358 - acc: 0.9030 - val_loss: 0.4073 - val_acc: 0.8319\n",
      "Epoch 8/10\n",
      "25000/25000 [==============================] - 4s 168us/step - loss: 0.2138 - acc: 0.9129 - val_loss: 0.5104 - val_acc: 0.8086\n",
      "Epoch 9/10\n",
      "25000/25000 [==============================] - 4s 166us/step - loss: 0.2093 - acc: 0.9157 - val_loss: 0.4437 - val_acc: 0.8274\n",
      "Epoch 10/10\n",
      "25000/25000 [==============================] - 4s 168us/step - loss: 0.1935 - acc: 0.9227 - val_loss: 0.4514 - val_acc: 0.8310\n",
      "Accuracy (epoch 5): 0.8872 train, 0.8374 val\n"
     ]
    }
   ],
   "source": [
    "from keras.layers import Activation, Conv1D, Dense, Embedding, GlobalMaxPooling1D, Input\n",
    "from keras.models import Model\n",
    "import numpy as np\n",
    "\n",
    "class GloveCNNSentimentModel(object):\n",
    "    def __init__(self, N=64, size=3):\n",
    "        self.model = self.create(N, size)\n",
    "        self.model.summary()\n",
    "        self.model.compile(optimizer='adam', loss='binary_crossentropy', metrics=['accuracy'])\n",
    "        \n",
    "    def create(self, N, size):\n",
    "        seq_indices = Input(shape=(seq_cutoff,), name='seq_input') \n",
    "        seq_embedded = Embedding(input_dim=len(vocab) + 1, output_dim=EMBEDDING_DIM, weights=[embedding_matrix],\n",
    "                                 input_length=seq_cutoff, trainable=False)(seq_indices)\n",
    "        seq_conv = Conv1D(N, size, activation='tanh')(seq_embedded)\n",
    "        max_conv = GlobalMaxPooling1D()(seq_conv)\n",
    "        hidden_repr = Dense(N, activation='tanh')(max_conv)\n",
    "        sentiment = Dense(1, activation='sigmoid')(hidden_repr)\n",
    "\n",
    "        return Model(inputs=[seq_indices], outputs=[sentiment])\n",
    "\n",
    "    def train(self, X, y, X_val, y_val):\n",
    "        print('Fitting...')\n",
    "        return self.model.fit(np.array(X, dtype='int32'), y,\n",
    "                              validation_data=(np.array(X_val, dtype='int32'), y_val), epochs=10, verbose=1)\n",
    "\n",
    "    def predict(self, X):\n",
    "        return self.model.predict(np.array(X))\n",
    "    \n",
    "sentiment = GloveCNNSentimentModel()\n",
    "history = sentiment.train(X_indices_train, y_train, X_indices_val, y_val)\n",
    "best_train_history(history)"
   ]
  },
  {
   "cell_type": "markdown",
   "metadata": {},
   "source": [
    "This model still sucks.  What problems does it have?\n",
    "\n",
    "But the model below is awesome.  (Stolen from Keras' `examples/imdb_cnn.py`.)\n",
    "  * What are the differences to the model above?\n",
    "  * What exactly makes it so awesome?\n",
    "  * Did we beat the bag-of-words baseline yet?"
   ]
  },
  {
   "cell_type": "code",
   "execution_count": 27,
   "metadata": {
    "scrolled": true
   },
   "outputs": [
    {
     "name": "stdout",
     "output_type": "stream",
     "text": [
      "_________________________________________________________________\n",
      "Layer (type)                 Output Shape              Param #   \n",
      "=================================================================\n",
      "seq_input (InputLayer)       (None, 458)               0         \n",
      "_________________________________________________________________\n",
      "embedding_4 (Embedding)      (None, 458, 50)           250050    \n",
      "_________________________________________________________________\n",
      "dropout_2 (Dropout)          (None, 458, 50)           0         \n",
      "_________________________________________________________________\n",
      "conv1d_2 (Conv1D)            (None, 456, 256)          38656     \n",
      "_________________________________________________________________\n",
      "global_max_pooling1d_3 (Glob (None, 256)               0         \n",
      "_________________________________________________________________\n",
      "dense_11 (Dense)             (None, 256)               65792     \n",
      "_________________________________________________________________\n",
      "dropout_3 (Dropout)          (None, 256)               0         \n",
      "_________________________________________________________________\n",
      "dense_12 (Dense)             (None, 1)                 257       \n",
      "=================================================================\n",
      "Total params: 354,755\n",
      "Trainable params: 354,755\n",
      "Non-trainable params: 0\n",
      "_________________________________________________________________\n",
      "Fitting...\n",
      "['seq_input']\n",
      "['dense_12']\n",
      "['seq_input']\n",
      "['dense_12']\n",
      "Train on 25000 samples, validate on 25000 samples\n",
      "Epoch 1/10\n",
      "25000/25000 [==============================] - 6s 241us/step - loss: 0.4191 - acc: 0.7960 - val_loss: 0.2955 - val_acc: 0.8770\n",
      "Epoch 2/10\n",
      "25000/25000 [==============================] - 6s 224us/step - loss: 0.2512 - acc: 0.8972 - val_loss: 0.2800 - val_acc: 0.8869\n",
      "Epoch 3/10\n",
      "25000/25000 [==============================] - 6s 222us/step - loss: 0.1829 - acc: 0.9278 - val_loss: 0.3035 - val_acc: 0.8794\n",
      "Epoch 4/10\n",
      "25000/25000 [==============================] - 6s 223us/step - loss: 0.1251 - acc: 0.9532 - val_loss: 0.3131 - val_acc: 0.8812\n",
      "Epoch 5/10\n",
      "25000/25000 [==============================] - 6s 225us/step - loss: 0.0889 - acc: 0.9672 - val_loss: 0.3449 - val_acc: 0.8795\n",
      "Epoch 6/10\n",
      "25000/25000 [==============================] - 6s 222us/step - loss: 0.0610 - acc: 0.9780 - val_loss: 0.4176 - val_acc: 0.8774\n",
      "Epoch 7/10\n",
      "25000/25000 [==============================] - 6s 221us/step - loss: 0.0499 - acc: 0.9812 - val_loss: 0.5348 - val_acc: 0.8638\n",
      "Epoch 8/10\n",
      "25000/25000 [==============================] - 6s 226us/step - loss: 0.0415 - acc: 0.9850 - val_loss: 0.4720 - val_acc: 0.8758\n",
      "Epoch 9/10\n",
      "25000/25000 [==============================] - 6s 224us/step - loss: 0.0351 - acc: 0.9878 - val_loss: 0.5985 - val_acc: 0.8618\n",
      "Epoch 10/10\n",
      "25000/25000 [==============================] - 6s 224us/step - loss: 0.0320 - acc: 0.9885 - val_loss: 0.5249 - val_acc: 0.8746\n",
      "Accuracy (epoch 2): 0.8972 train, 0.8869 val\n"
     ]
    }
   ],
   "source": [
    "from keras.layers import Activation, Conv1D, Dense, Embedding, GlobalMaxPooling1D, Input\n",
    "from keras.models import Model\n",
    "import numpy as np\n",
    "\n",
    "class GloveCNNAwesomeSentimentModel(object):\n",
    "    def __init__(self, N=256, size=3):\n",
    "        self.model = self.create(N, size)\n",
    "        self.model.summary()\n",
    "        self.model.compile(optimizer='adam', loss='binary_crossentropy', metrics=['accuracy'])\n",
    "        \n",
    "    def create(self, N, size):\n",
    "        seq_indices = Input(shape=(seq_cutoff,), name='seq_input') \n",
    "        seq_embedded = Embedding(input_dim=len(vocab) + 1, output_dim=EMBEDDING_DIM,\n",
    "                                 input_length=seq_cutoff)(seq_indices)\n",
    "        seq_conv = Conv1D(N, size, activation='relu')(Dropout(0.2)(seq_embedded))\n",
    "        max_conv = GlobalMaxPooling1D()(seq_conv)\n",
    "        hidden_repr = Dense(N, activation='relu')(max_conv)\n",
    "        sentiment = Dense(1, activation='sigmoid')(Dropout(0.2)(hidden_repr))\n",
    "\n",
    "        return Model(inputs=[seq_indices], outputs=[sentiment])\n",
    "\n",
    "    def train(self, X, y, X_val, y_val):\n",
    "        print('Fitting...')\n",
    "        return self.model.fit(np.array(X, dtype='int32'), y,\n",
    "                              validation_data=(np.array(X_val, dtype='int32'), y_val), epochs=10, verbose=1)\n",
    "\n",
    "    def predict(self, X):\n",
    "        return self.model.predict(np.array(X))\n",
    "    \n",
    "sentiment = GloveCNNAwesomeSentimentModel()\n",
    "history = sentiment.train(X_indices_train, y_train, X_indices_val, y_val)\n",
    "best_train_history(history)"
   ]
  },
  {
   "cell_type": "markdown",
   "metadata": {},
   "source": [
    "Can we make the model more awesome yet?\n",
    "\n",
    "Ideas:\n",
    "  * So what about the Glove pretrained embeddings?\n",
    "  * Project the embeddings to a more convolution-friendly space?\n",
    "  * Average pooling instead of max?\n",
    "  * Is 300D embedding better?\n",
    "  \n",
    "Advanced ideas:\n",
    "  * What about _both_ average and max pooling?\n",
    "  * `relu` activation is popular in computer vision CNNs instead of `tanh`.\n",
    "  * Some people recommend `rmsprop` optimizer rather than `adam` for CNNs. Does it matter?"
   ]
  },
  {
   "cell_type": "markdown",
   "metadata": {},
   "source": [
    "## Recurrence on sequences of embeddings"
   ]
  },
  {
   "cell_type": "code",
   "execution_count": 28,
   "metadata": {
    "scrolled": true
   },
   "outputs": [
    {
     "name": "stdout",
     "output_type": "stream",
     "text": [
      "_________________________________________________________________\n",
      "Layer (type)                 Output Shape              Param #   \n",
      "=================================================================\n",
      "seq_input (InputLayer)       (None, 458)               0         \n",
      "_________________________________________________________________\n",
      "embedding_5 (Embedding)      (None, 458, 50)           250050    \n",
      "_________________________________________________________________\n",
      "gru_1 (GRU)                  (None, 64)                22080     \n",
      "_________________________________________________________________\n",
      "dense_13 (Dense)             (None, 1)                 65        \n",
      "=================================================================\n",
      "Total params: 272,195\n",
      "Trainable params: 22,145\n",
      "Non-trainable params: 250,050\n",
      "_________________________________________________________________\n",
      "Fitting...\n",
      "['seq_input']\n",
      "['dense_13']\n",
      "['seq_input']\n",
      "['dense_13']\n",
      "Train on 25000 samples, validate on 25000 samples\n",
      "Epoch 1/10\n",
      "25000/25000 [==============================] - 540s 22ms/step - loss: 0.6910 - acc: 0.5092 - val_loss: 0.6826 - val_acc: 0.5236\n",
      "Epoch 2/10\n",
      "25000/25000 [==============================] - 536s 21ms/step - loss: 0.5446 - acc: 0.6851 - val_loss: 0.4029 - val_acc: 0.8170\n",
      "Epoch 3/10\n",
      "25000/25000 [==============================] - 527s 21ms/step - loss: 0.3816 - acc: 0.8287 - val_loss: 0.3633 - val_acc: 0.8353\n",
      "Epoch 4/10\n",
      "25000/25000 [==============================] - 527s 21ms/step - loss: 0.3472 - acc: 0.8488 - val_loss: 0.3377 - val_acc: 0.8502\n",
      "Epoch 5/10\n",
      "25000/25000 [==============================] - 518s 21ms/step - loss: 0.3239 - acc: 0.8586 - val_loss: 0.3275 - val_acc: 0.8560\n",
      "Epoch 6/10\n",
      "25000/25000 [==============================] - 523s 21ms/step - loss: 0.3009 - acc: 0.8702 - val_loss: 0.3432 - val_acc: 0.8504\n",
      "Epoch 7/10\n",
      "25000/25000 [==============================] - 526s 21ms/step - loss: 0.2890 - acc: 0.8768 - val_loss: 0.3201 - val_acc: 0.8607\n",
      "Epoch 8/10\n",
      "25000/25000 [==============================] - 520s 21ms/step - loss: 0.2680 - acc: 0.8852 - val_loss: 0.3279 - val_acc: 0.8537\n",
      "Epoch 9/10\n",
      "25000/25000 [==============================] - 524s 21ms/step - loss: 0.2549 - acc: 0.8939 - val_loss: 0.3133 - val_acc: 0.8665\n",
      "Epoch 10/10\n",
      "25000/25000 [==============================] - 529s 21ms/step - loss: 0.2428 - acc: 0.9001 - val_loss: 0.3242 - val_acc: 0.8631\n",
      "Accuracy (epoch 9): 0.8939 train, 0.8665 val\n"
     ]
    }
   ],
   "source": [
    "from keras.layers import Activation, Dense, Embedding, GRU, Input\n",
    "from keras.models import Model\n",
    "import numpy as np\n",
    "\n",
    "class GloveGRUSentimentModel(object):\n",
    "    def __init__(self, N=64):\n",
    "        self.model = self.create(N)\n",
    "        self.model.summary()\n",
    "        self.model.compile(optimizer='adam', loss='binary_crossentropy', metrics=['accuracy'])\n",
    "        \n",
    "    def create(self, N):\n",
    "        seq_indices = Input(shape=(seq_cutoff,), name='seq_input') \n",
    "        seq_embedded = Embedding(input_dim=len(vocab) + 1, output_dim=EMBEDDING_DIM, weights=[embedding_matrix],\n",
    "                                 input_length=seq_cutoff, trainable=False)(seq_indices)\n",
    "        recursive_repr = GRU(N)(seq_embedded)\n",
    "        sentiment = Dense(1, activation='sigmoid')(recursive_repr)\n",
    "\n",
    "        return Model(inputs=[seq_indices], outputs=[sentiment])\n",
    "\n",
    "    def train(self, X, y, X_val, y_val):\n",
    "        print('Fitting...')\n",
    "        return self.model.fit(np.array(X, dtype='int32'), y,\n",
    "                              validation_data=(np.array(X_val, dtype='int32'), y_val), epochs=10, verbose=1)\n",
    "\n",
    "    def predict(self, X):\n",
    "        return self.model.predict(np.array(X))\n",
    "    \n",
    "sentiment = GloveGRUSentimentModel()\n",
    "history = sentiment.train(X_indices_train, y_train, X_indices_val, y_val)\n",
    "best_train_history(history)"
   ]
  },
  {
   "cell_type": "markdown",
   "metadata": {},
   "source": [
    "If you take the time to train the model, it seems to really suck after the first epoch.  What could be the problem?  (Imagine the input, and how the RNN processes it.)"
   ]
  },
  {
   "cell_type": "markdown",
   "metadata": {},
   "source": [
    "The model below fixes the problem - how?  What is the most essential change?"
   ]
  },
  {
   "cell_type": "code",
   "execution_count": null,
   "metadata": {
    "scrolled": true
   },
   "outputs": [
    {
     "name": "stdout",
     "output_type": "stream",
     "text": [
      "_________________________________________________________________\n",
      "Layer (type)                 Output Shape              Param #   \n",
      "=================================================================\n",
      "seq_input (InputLayer)       (None, 458)               0         \n",
      "_________________________________________________________________\n",
      "embedding_6 (Embedding)      (None, 458, 50)           250050    \n",
      "_________________________________________________________________\n",
      "bidirectional_1 (Bidirection (None, 128)               44160     \n",
      "_________________________________________________________________\n",
      "dense_14 (Dense)             (None, 1)                 129       \n",
      "=================================================================\n",
      "Total params: 294,339\n",
      "Trainable params: 294,339\n",
      "Non-trainable params: 0\n",
      "_________________________________________________________________\n",
      "Fitting...\n",
      "['seq_input']\n",
      "['dense_14']\n",
      "['seq_input']\n",
      "['dense_14']\n",
      "Train on 25000 samples, validate on 25000 samples\n",
      "Epoch 1/10\n",
      "25000/25000 [==============================] - 306s 12ms/step - loss: 0.5319 - acc: 0.7134 - val_loss: 0.3534 - val_acc: 0.8473\n",
      "Epoch 2/10\n",
      "25000/25000 [==============================] - 307s 12ms/step - loss: 0.3012 - acc: 0.8737 - val_loss: 0.2861 - val_acc: 0.8796\n",
      "Epoch 3/10\n",
      "25000/25000 [==============================] - 307s 12ms/step - loss: 0.2445 - acc: 0.9011 - val_loss: 0.3012 - val_acc: 0.8715\n",
      "Epoch 4/10\n",
      "25000/25000 [==============================] - 303s 12ms/step - loss: 0.2094 - acc: 0.9182 - val_loss: 0.2831 - val_acc: 0.8879\n",
      "Epoch 5/10\n",
      "25000/25000 [==============================] - 303s 12ms/step - loss: 0.1752 - acc: 0.9330 - val_loss: 0.3280 - val_acc: 0.8724\n",
      "Epoch 6/10\n",
      "25000/25000 [==============================] - 307s 12ms/step - loss: 0.1453 - acc: 0.9461 - val_loss: 0.3160 - val_acc: 0.8874\n",
      "Epoch 7/10\n",
      "25000/25000 [==============================] - 308s 12ms/step - loss: 0.1195 - acc: 0.9563 - val_loss: 0.3404 - val_acc: 0.8826\n",
      "Epoch 8/10\n",
      "25000/25000 [==============================] - 306s 12ms/step - loss: 0.0907 - acc: 0.9699 - val_loss: 0.3737 - val_acc: 0.8775\n",
      "Epoch 9/10\n",
      "25000/25000 [==============================] - 305s 12ms/step - loss: 0.0631 - acc: 0.9806 - val_loss: 0.4440 - val_acc: 0.8740\n",
      "Epoch 10/10\n",
      "25000/25000 [==============================] - 304s 12ms/step - loss: 0.0398 - acc: 0.9894 - val_loss: 0.5192 - val_acc: 0.8696\n",
      "Accuracy (epoch 4): 0.9182 train, 0.8879 val\n"
     ]
    }
   ],
   "source": [
    "from keras.layers import Activation, Bidirectional, Dense, Embedding, GRU, Input\n",
    "from keras.models import Model\n",
    "import numpy as np\n",
    "\n",
    "class GloveGRUSentimentModel(object):\n",
    "    def __init__(self, N=64):\n",
    "        self.model = self.create(N)\n",
    "        self.model.summary()\n",
    "        self.model.compile(optimizer='adam', loss='binary_crossentropy', metrics=['accuracy'])\n",
    "        \n",
    "    def create(self, N):\n",
    "        seq_indices = Input(shape=(seq_cutoff,), name='seq_input') \n",
    "        seq_embedded = Embedding(input_dim=len(vocab) + 1, output_dim=EMBEDDING_DIM, weights=[embedding_matrix],\n",
    "                                 input_length=seq_cutoff, mask_zero=True)(seq_indices)\n",
    "        recursive_repr = Bidirectional(GRU(N))(seq_embedded)\n",
    "        sentiment = Dense(1, activation='sigmoid')(recursive_repr)\n",
    "\n",
    "        return Model(inputs=[seq_indices], outputs=[sentiment])\n",
    "\n",
    "    def train(self, X, y, X_val, y_val):\n",
    "        print('Fitting...')\n",
    "        return self.model.fit(np.array(X, dtype='int32'), y,\n",
    "                              validation_data=(np.array(X_val, dtype='int32'), y_val), epochs=10, verbose=1,\n",
    "                             batch_size=128)\n",
    "\n",
    "    def predict(self, X):\n",
    "        return self.model.predict(np.array(X))\n",
    "    \n",
    "sentiment = GloveGRUSentimentModel()\n",
    "history = sentiment.train(X_indices_train, y_train, X_indices_val, y_val)\n",
    "best_train_history(history)"
   ]
  },
  {
   "cell_type": "markdown",
   "metadata": {},
   "source": [
    "We are overfitting.  Can we improve generalization?\n",
    "\n",
    "Ideas:\n",
    "  * `GRU(N, return_sequence=True)` would return a single output element for each input element, rather than a single output for the whole sequence.  What cool things could we use this for?\n",
    "  * Any ideas to borrow from CNNs?\n",
    "  * Could we stack multiple GRUs on top of each other?"
   ]
  },
  {
   "cell_type": "markdown",
   "metadata": {},
   "source": [
    "## Combining CNN and GRU"
   ]
  },
  {
   "cell_type": "markdown",
   "metadata": {},
   "source": [
    "Let's go wild and take a look at an even more advanced model combining several ideas.  Can you explain what's going on here? Is this madness worth it? Which further improvements might be most desirable to test?"
   ]
  },
  {
   "cell_type": "code",
   "execution_count": null,
   "metadata": {},
   "outputs": [
    {
     "name": "stdout",
     "output_type": "stream",
     "text": [
      "__________________________________________________________________________________________________\n",
      "Layer (type)                    Output Shape         Param #     Connected to                     \n",
      "==================================================================================================\n",
      "seq_input (InputLayer)          (None, 458)          0                                            \n",
      "__________________________________________________________________________________________________\n",
      "embedding_7 (Embedding)         (None, 458, 50)      250050      seq_input[0][0]                  \n",
      "__________________________________________________________________________________________________\n",
      "dropout_4 (Dropout)             (None, 458, 50)      0           embedding_7[0][0]                \n",
      "__________________________________________________________________________________________________\n",
      "dense_15 (Dense)                (None, 458, 64)      3264        dropout_4[0][0]                  \n",
      "__________________________________________________________________________________________________\n",
      "dropout_5 (Dropout)             (None, 458, 64)      0           dense_15[0][0]                   \n",
      "__________________________________________________________________________________________________\n",
      "conv1d_3 (Conv1D)               (None, 458, 64)      12352       dropout_5[0][0]                  \n",
      "__________________________________________________________________________________________________\n",
      "add_1 (Add)                     (None, 458, 64)      0           dense_15[0][0]                   \n",
      "                                                                 conv1d_3[0][0]                   \n",
      "__________________________________________________________________________________________________\n",
      "global_max_pooling1d_4 (GlobalM (None, 64)           0           add_1[0][0]                      \n",
      "__________________________________________________________________________________________________\n",
      "bidirectional_2 (Bidirectional) (None, 128)          49536       add_1[0][0]                      \n",
      "__________________________________________________________________________________________________\n",
      "sentiment_by_hidden (Dense)     (None, 1)            65          global_max_pooling1d_4[0][0]     \n",
      "__________________________________________________________________________________________________\n",
      "sentiment (Dense)               (None, 1)            129         bidirectional_2[0][0]            \n",
      "==================================================================================================\n",
      "Total params: 315,396\n",
      "Trainable params: 315,396\n",
      "Non-trainable params: 0\n",
      "__________________________________________________________________________________________________\n",
      "Fitting...\n",
      "['seq_input']\n",
      "['sentiment_by_hidden', 'sentiment']\n",
      "['seq_input']\n",
      "['sentiment_by_hidden', 'sentiment']\n",
      "Train on 25000 samples, validate on 25000 samples\n",
      "Epoch 1/10\n",
      "25000/25000 [==============================] - 1047s 42ms/step - loss: 0.5901 - sentiment_by_hidden_loss: 0.5373 - sentiment_loss: 0.4826 - sentiment_by_hidden_acc: 0.7392 - sentiment_acc: 0.7476 - val_loss: 0.4038 - val_sentiment_by_hidden_loss: 0.3823 - val_sentiment_loss: 0.3274 - val_sentiment_by_hidden_acc: 0.8323 - val_sentiment_acc: 0.8634\n",
      "Epoch 2/10\n",
      "25000/25000 [==============================] - 946s 38ms/step - loss: 0.3874 - sentiment_by_hidden_loss: 0.3742 - sentiment_loss: 0.3125 - sentiment_by_hidden_acc: 0.8425 - sentiment_acc: 0.8664 - val_loss: 0.3651 - val_sentiment_by_hidden_loss: 0.3371 - val_sentiment_loss: 0.2976 - val_sentiment_by_hidden_acc: 0.8588 - val_sentiment_acc: 0.8724\n",
      "Epoch 3/10\n",
      "25000/25000 [==============================] - 931s 37ms/step - loss: 0.3332 - sentiment_by_hidden_loss: 0.3287 - sentiment_loss: 0.2675 - sentiment_by_hidden_acc: 0.8644 - sentiment_acc: 0.8889 - val_loss: 0.3490 - val_sentiment_by_hidden_loss: 0.3193 - val_sentiment_loss: 0.2851 - val_sentiment_by_hidden_acc: 0.8656 - val_sentiment_acc: 0.8832\n",
      "Epoch 4/10\n",
      "25000/25000 [==============================] - 948s 38ms/step - loss: 0.3013 - sentiment_by_hidden_loss: 0.3011 - sentiment_loss: 0.2411 - sentiment_by_hidden_acc: 0.8757 - sentiment_acc: 0.9020 - val_loss: 0.3201 - val_sentiment_by_hidden_loss: 0.3130 - val_sentiment_loss: 0.2575 - val_sentiment_by_hidden_acc: 0.8685 - val_sentiment_acc: 0.8935\n",
      "Epoch 5/10\n",
      "25000/25000 [==============================] - 1038s 42ms/step - loss: 0.2738 - sentiment_by_hidden_loss: 0.2822 - sentiment_loss: 0.2173 - sentiment_by_hidden_acc: 0.8866 - sentiment_acc: 0.9147 - val_loss: 0.3215 - val_sentiment_by_hidden_loss: 0.3108 - val_sentiment_loss: 0.2593 - val_sentiment_by_hidden_acc: 0.8705 - val_sentiment_acc: 0.8962\n",
      "Epoch 6/10\n",
      "25000/25000 [==============================] - 1065s 43ms/step - loss: 0.2577 - sentiment_by_hidden_loss: 0.2716 - sentiment_loss: 0.2034 - sentiment_by_hidden_acc: 0.8904 - sentiment_acc: 0.9198 - val_loss: 0.3290 - val_sentiment_by_hidden_loss: 0.3118 - val_sentiment_loss: 0.2666 - val_sentiment_by_hidden_acc: 0.8706 - val_sentiment_acc: 0.8902\n",
      "Epoch 7/10\n",
      "25000/25000 [==============================] - 1038s 42ms/step - loss: 0.2325 - sentiment_by_hidden_loss: 0.2570 - sentiment_loss: 0.1811 - sentiment_by_hidden_acc: 0.8966 - sentiment_acc: 0.9308 - val_loss: 0.3355 - val_sentiment_by_hidden_loss: 0.3179 - val_sentiment_loss: 0.2719 - val_sentiment_by_hidden_acc: 0.8692 - val_sentiment_acc: 0.8940\n",
      "Epoch 8/10\n",
      "25000/25000 [==============================] - 1030s 41ms/step - loss: 0.2211 - sentiment_by_hidden_loss: 0.2480 - sentiment_loss: 0.1715 - sentiment_by_hidden_acc: 0.9011 - sentiment_acc: 0.9332 - val_loss: 0.3501 - val_sentiment_by_hidden_loss: 0.3197 - val_sentiment_loss: 0.2861 - val_sentiment_by_hidden_acc: 0.8723 - val_sentiment_acc: 0.8925\n",
      "Epoch 9/10\n",
      "12224/25000 [=============>................] - ETA: 7:11 - loss: 0.1980 - sentiment_by_hidden_loss: 0.2361 - sentiment_loss: 0.1508 - sentiment_by_hidden_acc: 0.9080 - sentiment_acc: 0.9431"
     ]
    }
   ],
   "source": [
    "from keras.layers import Activation, Bidirectional, Conv1D, Dense, Embedding, GlobalMaxPooling1D, GRU, Input, add\n",
    "from keras.models import Model\n",
    "import numpy as np\n",
    "\n",
    "class GloveCNNGRUSISentimentModel(object):\n",
    "    def __init__(self, N=64, size=3):\n",
    "        self.model = self.create(N, size)\n",
    "        self.model.summary()\n",
    "        self.model.compile(optimizer='adam', loss='binary_crossentropy', loss_weights=[0.2, 1.0], metrics=['accuracy'])\n",
    "        \n",
    "    def create(self, N, size):\n",
    "        seq_indices = Input(shape=(seq_cutoff,), name='seq_input') \n",
    "        seq_embedded = Embedding(input_dim=len(vocab) + 1, output_dim=EMBEDDING_DIM, weights=[embedding_matrix],\n",
    "                                 input_length=seq_cutoff)(seq_indices)\n",
    "        seq_hidden = Dense(N, activation='tanh')(Dropout(0.2)(seq_embedded))\n",
    "        \n",
    "        seq_conv = Conv1D(N, size, activation='tanh', padding='same')(Dropout(0.2)(seq_hidden))\n",
    "        # Residual skip-connection: The convolution just fine-tunes per-word Dense projection.\n",
    "        seq_hidden = add([seq_hidden, seq_conv])\n",
    "        \n",
    "        recursive_repr = Bidirectional(GRU(N))(seq_hidden)\n",
    "        sentiment = Dense(1, activation='sigmoid', name='sentiment')(recursive_repr)\n",
    "        \n",
    "        # Inception: Also try to make even the hidden representation good enough to predict sentiment.\n",
    "        max_hidden = GlobalMaxPooling1D()(seq_hidden)\n",
    "        sentiment_by_hidden = Dense(1, activation='sigmoid', name='sentiment_by_hidden')(max_hidden)\n",
    "\n",
    "        return Model(inputs=[seq_indices], outputs=[sentiment_by_hidden, sentiment])\n",
    "\n",
    "    def train(self, X, y, X_val, y_val):\n",
    "        print('Fitting...')\n",
    "        return self.model.fit(np.array(X, dtype='int32'), [np.array(y), np.array(y)],\n",
    "                              validation_data=(np.array(X_val, dtype='int32'),\n",
    "                                               [np.array(y_val), np.array(y_val)]),\n",
    "                              epochs=10, verbose=1)\n",
    "\n",
    "    def predict(self, X):\n",
    "        return self.model.predict(np.array(X))[-1:]\n",
    "    \n",
    "sentiment = GloveCNNGRUSISentimentModel()\n",
    "history = sentiment.train(X_indices_train, y_train, X_indices_val, y_val)"
   ]
  },
  {
   "attachments": {
    "image.png": {
     "image/png": "[encoded data removed]"
    }
   },
   "cell_type": "markdown",
   "metadata": {},
   "source": [
    "Can we do even better? Yes - let's look at the literature.\n",
    "\n",
    "![image.png](attachment:image.png)\n",
    "\n",
    "...and https://arxiv.org/pdf/1605.07725.pdf (source of table above; 5.91%)"
   ]
  },
  {
   "cell_type": "markdown",
   "metadata": {},
   "source": [
    "Final challenge: What common idea is shared by all of the best models? Can you implement one of them based on what you learned today?"
   ]
  },
  {
   "cell_type": "code",
   "execution_count": null,
   "metadata": {
    "collapsed": true
   },
   "outputs": [],
   "source": []
  }
 ],
 "metadata": {
  "kernelspec": {
   "display_name": "Python 2",
   "language": "python",
   "name": "python2"
  },
  "language_info": {
   "codemirror_mode": {
    "name": "ipython",
    "version": 2
   },
   "file_extension": ".py",
   "mimetype": "text/x-python",
   "name": "python",
   "nbconvert_exporter": "python",
   "pygments_lexer": "ipython2",
   "version": "2.7.12"
  }
 },
 "nbformat": 4,
 "nbformat_minor": 1
}
