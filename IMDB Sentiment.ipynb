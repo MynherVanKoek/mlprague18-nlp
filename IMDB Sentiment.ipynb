{
  "nbformat": 4,
  "nbformat_minor": 0,
  "metadata": {
    "colab": {
      "name": "IMDB Sentiment.ipynb",
      "version": "0.3.2",
      "provenance": []
    },
    "kernelspec": {
      "name": "python2",
      "display_name": "Python 2"
    },
    "accelerator": "TPU"
  },
  "cells": [
    {
      "metadata": {
        "id": "bQpja1DZ-9Ph",
        "colab_type": "text"
      },
      "cell_type": "markdown",
      "source": [
        "# Sentiment Analysis on IMDb Reviews"
      ]
    },
    {
      "metadata": {
        "id": "0FPVcrx9-9Pm",
        "colab_type": "code",
        "colab": {}
      },
      "cell_type": "code",
      "source": [
        "from __future__ import print_function, division"
      ],
      "execution_count": 0,
      "outputs": []
    },
    {
      "metadata": {
        "id": "VPWLzHje-9Ps",
        "colab_type": "text"
      },
      "cell_type": "markdown",
      "source": [
        "Download and extract the IMDB sentiment dataset:"
      ]
    },
    {
      "metadata": {
        "id": "abO-VAHX_hF3",
        "colab_type": "code",
        "colab": {
          "base_uri": "https://localhost:8080/",
          "height": 204
        },
        "outputId": "08e2bc10-5b80-4be3-f63c-ec815506d39d"
      },
      "cell_type": "code",
      "source": [
        "!    wget http://ai.stanford.edu/~amaas/data/sentiment/aclImdb_v1.tar.gz\n",
        "!    tar xfz aclImdb_v1.tar.gz"
      ],
      "execution_count": 2,
      "outputs": [
        {
          "output_type": "stream",
          "text": [
            "--2019-02-21 22:45:57--  http://ai.stanford.edu/~amaas/data/sentiment/aclImdb_v1.tar.gz\n",
            "Resolving ai.stanford.edu (ai.stanford.edu)... 171.64.68.10\n",
            "Connecting to ai.stanford.edu (ai.stanford.edu)|171.64.68.10|:80... connected.\n",
            "HTTP request sent, awaiting response... 200 OK\n",
            "Length: 84125825 (80M) [application/x-gzip]\n",
            "Saving to: ‘aclImdb_v1.tar.gz’\n",
            "\n",
            "aclImdb_v1.tar.gz   100%[===================>]  80.23M  23.3MB/s    in 4.1s    \n",
            "\n",
            "2019-02-21 22:46:07 (19.5 MB/s) - ‘aclImdb_v1.tar.gz’ saved [84125825/84125825]\n",
            "\n"
          ],
          "name": "stdout"
        }
      ]
    },
    {
      "metadata": {
        "id": "ZQXlpBLB-9Pv",
        "colab_type": "text"
      },
      "cell_type": "markdown",
      "source": [
        "First, we pre-process the dataset, converting each review to a sequence of word index numbers."
      ]
    },
    {
      "metadata": {
        "id": "T3CrPOmM-9Pw",
        "colab_type": "code",
        "colab": {
          "base_uri": "https://localhost:8080/",
          "height": 34
        },
        "outputId": "a8d303fa-bb8b-4069-dadf-b600c5ee95a5"
      },
      "cell_type": "code",
      "source": [
        "# Vocabulary: All words used, starting by the most frequent\n",
        "with open('aclImdb/imdb.vocab') as f:\n",
        "    vocab = [word.rstrip() for word in f]\n",
        "    # Keep only most frequent 5000 words rather than all 90000\n",
        "    # Just saving memory - the long tail occurs too few times\n",
        "    # for the model to learn anything anyway\n",
        "    vocab = vocab[:5000]\n",
        "    print('%d words in vocabulary' % (len(vocab),))"
      ],
      "execution_count": 3,
      "outputs": [
        {
          "output_type": "stream",
          "text": [
            "5000 words in vocabulary\n"
          ],
          "name": "stdout"
        }
      ]
    },
    {
      "metadata": {
        "id": "dh3XRMRf-9P3",
        "colab_type": "code",
        "colab": {}
      },
      "cell_type": "code",
      "source": [
        "import re\n",
        "\n",
        "def text_tokens(text):\n",
        "    text = text.lower()\n",
        "    text = re.sub(\"\\\\s\", \" \", text)\n",
        "    text = re.sub(\"[^a-zA-Z' ]\", \"\", text)\n",
        "    tokens = text.split(' ')\n",
        "    return tokens"
      ],
      "execution_count": 0,
      "outputs": []
    },
    {
      "metadata": {
        "id": "ZDwrjCef-9P7",
        "colab_type": "code",
        "colab": {}
      },
      "cell_type": "code",
      "source": [
        "import os\n",
        "\n",
        "def load_dataset(dirname):\n",
        "    X, y = [], []\n",
        "    # Review files: neg/0_3.txt neg/10000_4.txt neg/10001_4.txt ...\n",
        "    for y_val, y_label in enumerate(['neg', 'pos']):\n",
        "        y_dir = os.path.join(dirname, y_label)\n",
        "        for fname in os.listdir(y_dir):\n",
        "            fpath = os.path.join(y_dir, fname)\n",
        "            # print('\\r' + fpath + '   ', end='')\n",
        "            with open(fpath) as f:\n",
        "                tokens = text_tokens(f.read())\n",
        "            X.append(tokens)\n",
        "            y.append(y_val)  # 0 for 'neg', 1 for 'pos'\n",
        "    print()\n",
        "    return X, y"
      ],
      "execution_count": 0,
      "outputs": []
    },
    {
      "metadata": {
        "scrolled": true,
        "id": "Dk5yi6O7-9P_",
        "colab_type": "code",
        "colab": {
          "base_uri": "https://localhost:8080/",
          "height": 51
        },
        "outputId": "750dc914-e552-4a35-904a-cd49261f1b51"
      },
      "cell_type": "code",
      "source": [
        "X_train, y_train = load_dataset('aclImdb/train/')\n",
        "\n",
        "# We are cheating here - this is a test set, not a validation set.\n",
        "# This is just to make results quickly comparable to outside results\n",
        "# during the tutorial, but you should normally never use the test set\n",
        "# during training, of course!\n",
        "X_val, y_val = load_dataset('aclImdb/test/')"
      ],
      "execution_count": 6,
      "outputs": [
        {
          "output_type": "stream",
          "text": [
            "\n",
            "\n"
          ],
          "name": "stdout"
        }
      ]
    },
    {
      "metadata": {
        "id": "i0Kyi8xV-9QE",
        "colab_type": "code",
        "colab": {
          "base_uri": "https://localhost:8080/",
          "height": 34
        },
        "outputId": "3157bc7e-888f-4595-a48b-a199605d469b"
      },
      "cell_type": "code",
      "source": [
        "len(X_train), len(X_val)"
      ],
      "execution_count": 7,
      "outputs": [
        {
          "output_type": "execute_result",
          "data": {
            "text/plain": [
              "(25000, 25000)"
            ]
          },
          "metadata": {
            "tags": []
          },
          "execution_count": 7
        }
      ]
    },
    {
      "metadata": {
        "id": "QoLumL04-9QK",
        "colab_type": "text"
      },
      "cell_type": "markdown",
      "source": [
        "## Bag-of-words Linear Model"
      ]
    },
    {
      "metadata": {
        "id": "KOQo5OP_-9QL",
        "colab_type": "code",
        "colab": {}
      },
      "cell_type": "code",
      "source": [
        "def bow_onehot_vector(tokens):\n",
        "    vector = [0] * len(vocab)\n",
        "    for t in tokens:\n",
        "        try:\n",
        "            vector[vocab.index(t)] = 1\n",
        "        except:\n",
        "            pass  # ignore missing words\n",
        "    return vector"
      ],
      "execution_count": 0,
      "outputs": []
    },
    {
      "metadata": {
        "id": "qpSiUfNh-9QP",
        "colab_type": "code",
        "colab": {
          "base_uri": "https://localhost:8080/",
          "height": 51
        },
        "outputId": "9ac4cb58-6e45-44c7-beee-019074ca2394"
      },
      "cell_type": "code",
      "source": [
        "from tqdm import tqdm\n",
        "\n",
        "X_bow_train = [bow_onehot_vector(x) for x in tqdm(X_train)]\n",
        "X_bow_val = [bow_onehot_vector(x) for x in tqdm(X_val)]"
      ],
      "execution_count": 9,
      "outputs": [
        {
          "output_type": "stream",
          "text": [
            "100%|██████████| 25000/25000 [01:27<00:00, 285.03it/s]\n",
            "100%|██████████| 25000/25000 [01:25<00:00, 291.52it/s]\n"
          ],
          "name": "stderr"
        }
      ]
    },
    {
      "metadata": {
        "id": "pxZY20nQ-9QU",
        "colab_type": "code",
        "colab": {}
      },
      "cell_type": "code",
      "source": [
        "def best_train_history(history):\n",
        "    best_epoch = np.argmax(history.history['val_acc'])\n",
        "    print('Accuracy (epoch %d): %.4f train, %.4f val' % \\\n",
        "          (best_epoch + 1, history.history['acc'][best_epoch], history.history['val_acc'][best_epoch]))\n",
        "# (Note that sentiment.model is the state after the last epoch rather than best epoch!\n",
        "# Use ModelCheckpointer to restore the best epoch.)"
      ],
      "execution_count": 0,
      "outputs": []
    },
    {
      "metadata": {
        "scrolled": true,
        "id": "slkvuH-s-9Qd",
        "colab_type": "code",
        "colab": {
          "base_uri": "https://localhost:8080/",
          "height": 768
        },
        "outputId": "ce2fc83e-e158-4026-8337-e26494392622"
      },
      "cell_type": "code",
      "source": [
        "from keras.layers import Activation, Dense, Input\n",
        "from keras.models import Model\n",
        "import numpy as np\n",
        "\n",
        "class BOWSentimentModel(object):\n",
        "    def __init__(self):\n",
        "        bow = Input(shape=(len(vocab),), name='bow_input')\n",
        "        # weights of all inputs\n",
        "        sentiment = Dense(1)(bow)\n",
        "        # normalize to [0, 1] range\n",
        "        sentiment = Activation('sigmoid')(sentiment)\n",
        "\n",
        "        self.model = Model(inputs=[bow], outputs=[sentiment])\n",
        "        self.model.summary()\n",
        "        self.model.compile(optimizer='adam', loss='binary_crossentropy', metrics=['accuracy'])\n",
        "\n",
        "    def train(self, X, y, X_val, y_val):\n",
        "        print('Fitting...')\n",
        "        return self.model.fit(np.array(X), y, validation_data=(np.array(X_val), y_val), epochs=10, verbose=1)\n",
        "\n",
        "    def predict(self, X):\n",
        "        return self.model.predict(np.array(X))\n",
        "    \n",
        "sentiment = BOWSentimentModel()\n",
        "history = sentiment.train(X_bow_train, y_train, X_bow_val, y_val)\n",
        "best_train_history(history)"
      ],
      "execution_count": 11,
      "outputs": [
        {
          "output_type": "stream",
          "text": [
            "Using TensorFlow backend.\n"
          ],
          "name": "stderr"
        },
        {
          "output_type": "stream",
          "text": [
            "WARNING:tensorflow:From /usr/local/lib/python2.7/dist-packages/tensorflow/python/framework/op_def_library.py:263: colocate_with (from tensorflow.python.framework.ops) is deprecated and will be removed in a future version.\n",
            "Instructions for updating:\n",
            "Colocations handled automatically by placer.\n",
            "_________________________________________________________________\n",
            "Layer (type)                 Output Shape              Param #   \n",
            "=================================================================\n",
            "bow_input (InputLayer)       (None, 5000)              0         \n",
            "_________________________________________________________________\n",
            "dense_1 (Dense)              (None, 1)                 5001      \n",
            "_________________________________________________________________\n",
            "activation_1 (Activation)    (None, 1)                 0         \n",
            "=================================================================\n",
            "Total params: 5,001\n",
            "Trainable params: 5,001\n",
            "Non-trainable params: 0\n",
            "_________________________________________________________________\n",
            "Fitting...\n",
            "WARNING:tensorflow:From /usr/local/lib/python2.7/dist-packages/tensorflow/python/ops/math_ops.py:3066: to_int32 (from tensorflow.python.ops.math_ops) is deprecated and will be removed in a future version.\n",
            "Instructions for updating:\n",
            "Use tf.cast instead.\n",
            "Train on 25000 samples, validate on 25000 samples\n",
            "Epoch 1/10\n",
            "25000/25000 [==============================] - 3s 112us/step - loss: 0.4523 - acc: 0.8350 - val_loss: 0.3628 - val_acc: 0.8719\n",
            "Epoch 2/10\n",
            "25000/25000 [==============================] - 2s 86us/step - loss: 0.3136 - acc: 0.8877 - val_loss: 0.3165 - val_acc: 0.8792\n",
            "Epoch 3/10\n",
            "25000/25000 [==============================] - 2s 86us/step - loss: 0.2729 - acc: 0.9016 - val_loss: 0.3005 - val_acc: 0.8804\n",
            "Epoch 4/10\n",
            "25000/25000 [==============================] - 2s 87us/step - loss: 0.2502 - acc: 0.9081 - val_loss: 0.2936 - val_acc: 0.8815\n",
            "Epoch 5/10\n",
            "25000/25000 [==============================] - 2s 85us/step - loss: 0.2348 - acc: 0.9142 - val_loss: 0.2915 - val_acc: 0.8813\n",
            "Epoch 6/10\n",
            "25000/25000 [==============================] - 2s 85us/step - loss: 0.2234 - acc: 0.9182 - val_loss: 0.2921 - val_acc: 0.8805\n",
            "Epoch 7/10\n",
            "25000/25000 [==============================] - 2s 85us/step - loss: 0.2142 - acc: 0.9228 - val_loss: 0.2923 - val_acc: 0.8812\n",
            "Epoch 8/10\n",
            "25000/25000 [==============================] - 2s 85us/step - loss: 0.2069 - acc: 0.9239 - val_loss: 0.2947 - val_acc: 0.8794\n",
            "Epoch 9/10\n",
            "25000/25000 [==============================] - 2s 84us/step - loss: 0.2008 - acc: 0.9262 - val_loss: 0.2985 - val_acc: 0.8779\n",
            "Epoch 10/10\n",
            "25000/25000 [==============================] - 2s 86us/step - loss: 0.1953 - acc: 0.9297 - val_loss: 0.3006 - val_acc: 0.8772\n",
            "Accuracy (epoch 4): 0.9081 train, 0.8815 val\n"
          ],
          "name": "stdout"
        }
      ]
    },
    {
      "metadata": {
        "id": "CTe-Qt2N-9Qm",
        "colab_type": "code",
        "colab": {
          "base_uri": "https://localhost:8080/",
          "height": 105
        },
        "outputId": "0a2b9696-1c1c-47b3-b2e6-7859f5bc8579"
      },
      "cell_type": "code",
      "source": [
        "test_text = 'Good story about a backwoods community in the Ozarks around the turn of the century. Moonshine is the leading industry, fighting and funning the major form of entertainment. One day a stranger enters the community and causes a shake-up among the locals. Beautiful scenery adds much to the story.'\n",
        "test_tokens = text_tokens(test_text)\n",
        "print(test_text)\n",
        "print(sentiment.predict([bow_onehot_vector(test_tokens)])[0])\n",
        "\n",
        "test_text = 'Boring story about a backwoods community in the Ozarks around the turn of the century. Moonshine is the leading industry, fighting and funning the major form of entertainment. One day a stranger enters the community and causes a shake-up among the locals. Beautiful scenery does not add to the story.'\n",
        "test_tokens = text_tokens(test_text)\n",
        "print(test_text)\n",
        "print(sentiment.predict([bow_onehot_vector(test_tokens)])[0])\n"
      ],
      "execution_count": 12,
      "outputs": [
        {
          "output_type": "stream",
          "text": [
            "Good story about a backwoods community in the Ozarks around the turn of the century. Moonshine is the leading industry, fighting and funning the major form of entertainment. One day a stranger enters the community and causes a shake-up among the locals. Beautiful scenery adds much to the story.\n",
            "[0.7635506]\n",
            "Boring story about a backwoods community in the Ozarks around the turn of the century. Moonshine is the leading industry, fighting and funning the major form of entertainment. One day a stranger enters the community and causes a shake-up among the locals. Beautiful scenery does not add to the story.\n",
            "[0.3953569]\n"
          ],
          "name": "stdout"
        }
      ]
    },
    {
      "metadata": {
        "id": "1WBNFZb8-9Q2",
        "colab_type": "code",
        "colab": {}
      },
      "cell_type": "code",
      "source": [
        "import matplotlib.pyplot as plt\n",
        "def plot_train_history(history):\n",
        "    plt.figure()\n",
        "    plt.plot(history.history['acc'])\n",
        "    plt.plot(history.history['val_acc'])\n",
        "    plt.xlabel('epoch')\n",
        "    plt.ylabel('accuracy')\n",
        "    plt.legend(['acc', 'val_acc'])\n",
        "    plt.show()"
      ],
      "execution_count": 0,
      "outputs": []
    },
    {
      "metadata": {
        "id": "eLjC737--9Q6",
        "colab_type": "code",
        "colab": {
          "base_uri": "https://localhost:8080/",
          "height": 361
        },
        "outputId": "1a03611b-f8ff-48d7-f512-a4128167c539"
      },
      "cell_type": "code",
      "source": [
        "plot_train_history(history)"
      ],
      "execution_count": 14,
      "outputs": [
        {
          "output_type": "display_data",
          "data": {
            "image/png": "[encoded data removed]",
            "text/plain": [
              "<Figure size 576x396 with 1 Axes>"
            ]
          },
          "metadata": {
            "tags": []
          }
        }
      ]
    },
    {
      "metadata": {
        "id": "DtUaOoZf-9RC",
        "colab_type": "text"
      },
      "cell_type": "markdown",
      "source": [
        "### Bag-of-Words with Hidden Layer"
      ]
    },
    {
      "metadata": {
        "scrolled": true,
        "id": "pum8HYkz-9RD",
        "colab_type": "code",
        "colab": {
          "base_uri": "https://localhost:8080/",
          "height": 629
        },
        "outputId": "499aab22-0b5e-465d-ce61-7a56a43aff14"
      },
      "cell_type": "code",
      "source": [
        "from keras.layers import Activation, Dense, Input\n",
        "from keras.models import Model\n",
        "import numpy as np\n",
        "\n",
        "class BOWHiddenSentimentModel(object):\n",
        "    def __init__(self, N=64):\n",
        "        bow = Input(shape=(len(vocab),), name='bow_input')\n",
        "        hidden = Dense(N, activation='tanh')(bow)\n",
        "        sentiment = Dense(1, activation='sigmoid')(hidden)\n",
        "\n",
        "        self.model = Model(inputs=[bow], outputs=[sentiment])\n",
        "        self.model.summary()\n",
        "        self.model.compile(optimizer='adam', loss='binary_crossentropy', metrics=['accuracy'])\n",
        "\n",
        "    def train(self, X, y, X_val, y_val):\n",
        "        print('Fitting...')\n",
        "        return self.model.fit(np.array(X), y, validation_data=(np.array(X_val), y_val), epochs=10, verbose=1)\n",
        "\n",
        "    def predict(self, X):\n",
        "        return self.model.predict(np.array(X))\n",
        "    \n",
        "sentiment = BOWHiddenSentimentModel()\n",
        "history = sentiment.train(X_bow_train, y_train, X_bow_val, y_val)\n",
        "best_train_history(history)"
      ],
      "execution_count": 15,
      "outputs": [
        {
          "output_type": "stream",
          "text": [
            "_________________________________________________________________\n",
            "Layer (type)                 Output Shape              Param #   \n",
            "=================================================================\n",
            "bow_input (InputLayer)       (None, 5000)              0         \n",
            "_________________________________________________________________\n",
            "dense_2 (Dense)              (None, 64)                320064    \n",
            "_________________________________________________________________\n",
            "dense_3 (Dense)              (None, 1)                 65        \n",
            "=================================================================\n",
            "Total params: 320,129\n",
            "Trainable params: 320,129\n",
            "Non-trainable params: 0\n",
            "_________________________________________________________________\n",
            "Fitting...\n",
            "Train on 25000 samples, validate on 25000 samples\n",
            "Epoch 1/10\n",
            "25000/25000 [==============================] - 10s 385us/step - loss: 0.3299 - acc: 0.8580 - val_loss: 0.2998 - val_acc: 0.8702\n",
            "Epoch 2/10\n",
            "25000/25000 [==============================] - 8s 307us/step - loss: 0.2349 - acc: 0.9030 - val_loss: 0.3294 - val_acc: 0.8620\n",
            "Epoch 3/10\n",
            "25000/25000 [==============================] - 8s 306us/step - loss: 0.2026 - acc: 0.9196 - val_loss: 0.3192 - val_acc: 0.8659\n",
            "Epoch 4/10\n",
            "25000/25000 [==============================] - 8s 304us/step - loss: 0.1775 - acc: 0.9283 - val_loss: 0.3525 - val_acc: 0.8586\n",
            "Epoch 5/10\n",
            "25000/25000 [==============================] - 8s 308us/step - loss: 0.1511 - acc: 0.9424 - val_loss: 0.3766 - val_acc: 0.8606\n",
            "Epoch 6/10\n",
            "25000/25000 [==============================] - 8s 309us/step - loss: 0.1225 - acc: 0.9540 - val_loss: 0.4036 - val_acc: 0.8565\n",
            "Epoch 7/10\n",
            "25000/25000 [==============================] - 8s 311us/step - loss: 0.0913 - acc: 0.9679 - val_loss: 0.4564 - val_acc: 0.8547\n",
            "Epoch 8/10\n",
            "25000/25000 [==============================] - 10s 382us/step - loss: 0.0629 - acc: 0.9802 - val_loss: 0.5052 - val_acc: 0.8536\n",
            "Epoch 9/10\n",
            "25000/25000 [==============================] - 9s 341us/step - loss: 0.0400 - acc: 0.9908 - val_loss: 0.5871 - val_acc: 0.8508\n",
            "Epoch 10/10\n",
            "25000/25000 [==============================] - 8s 304us/step - loss: 0.0240 - acc: 0.9956 - val_loss: 0.6373 - val_acc: 0.8514\n",
            "Accuracy (epoch 1): 0.8580 train, 0.8702 val\n"
          ],
          "name": "stdout"
        }
      ]
    },
    {
      "metadata": {
        "id": "1UNgXwqO-9RQ",
        "colab_type": "code",
        "colab": {},
        "outputId": "4efd1a02-f8f8-464a-98bd-b0ff3127783b"
      },
      "cell_type": "code",
      "source": [
        "plot_train_history(history)"
      ],
      "execution_count": 0,
      "outputs": [
        {
          "output_type": "display_data",
          "data": {
            "image/png": "[encoded data removed]",
            "text/plain": [
              "<matplotlib.figure.Figure at 0x7fbd1746bcd0>"
            ]
          },
          "metadata": {
            "tags": []
          }
        }
      ]
    },
    {
      "metadata": {
        "id": "K834B3Rx-9Ra",
        "colab_type": "text"
      },
      "cell_type": "markdown",
      "source": [
        "Overfitting!  Ideas:\n",
        "  * Apply dropout\n",
        "  * L2-regularize the weights of the hidden layer\n",
        "  * Different N values?\n",
        "  * Multiple hidden layers, with different activation?\n",
        "  * tf-idf !\n",
        "  \n",
        "Can anyone fix the bag-of-words model?"
      ]
    },
    {
      "metadata": {
        "scrolled": true,
        "id": "BvC5o3eH-9Rc",
        "colab_type": "code",
        "colab": {
          "base_uri": "https://localhost:8080/",
          "height": 734
        },
        "outputId": "9b10f7f0-9118-4735-87ad-901117a72b3d"
      },
      "cell_type": "code",
      "source": [
        "from keras.layers import Activation, Dense, Dropout, Input\n",
        "from keras.models import Model\n",
        "from keras import regularizers\n",
        "import numpy as np\n",
        "\n",
        "class BOWHiddenRegularizedSentimentModel(object):\n",
        "    def __init__(self, N=128):\n",
        "        bow = Input(shape=(len(vocab),), name='bow_input')\n",
        "        hidden = Dropout(0.5)(Dense(N, kernel_regularizer=regularizers.l2(1e-3))(bow))\n",
        "        sentiment = Dense(1, activation='sigmoid')(hidden)\n",
        "\n",
        "        self.model = Model(inputs=[bow], outputs=[sentiment])\n",
        "        self.model.summary()\n",
        "        self.model.compile(optimizer='adam', loss='binary_crossentropy', metrics=['accuracy'])\n",
        "\n",
        "    def train(self, X, y, X_val, y_val):\n",
        "        print('Fitting...')\n",
        "        return self.model.fit(np.array(X), y, validation_data=(np.array(X_val), y_val), epochs=10, verbose=1)\n",
        "\n",
        "    def predict(self, X):\n",
        "        return self.model.predict(np.array(X))\n",
        "    \n",
        "sentiment = BOWHiddenRegularizedSentimentModel()\n",
        "history = sentiment.train(X_bow_train, y_train, X_bow_val, y_val)\n",
        "best_train_history(history)"
      ],
      "execution_count": 16,
      "outputs": [
        {
          "output_type": "stream",
          "text": [
            "WARNING:tensorflow:From /usr/local/lib/python2.7/dist-packages/keras/backend/tensorflow_backend.py:3445: calling dropout (from tensorflow.python.ops.nn_ops) with keep_prob is deprecated and will be removed in a future version.\n",
            "Instructions for updating:\n",
            "Please use `rate` instead of `keep_prob`. Rate should be set to `rate = 1 - keep_prob`.\n",
            "_________________________________________________________________\n",
            "Layer (type)                 Output Shape              Param #   \n",
            "=================================================================\n",
            "bow_input (InputLayer)       (None, 5000)              0         \n",
            "_________________________________________________________________\n",
            "dense_4 (Dense)              (None, 128)               640128    \n",
            "_________________________________________________________________\n",
            "dropout_1 (Dropout)          (None, 128)               0         \n",
            "_________________________________________________________________\n",
            "dense_5 (Dense)              (None, 1)                 129       \n",
            "=================================================================\n",
            "Total params: 640,257\n",
            "Trainable params: 640,257\n",
            "Non-trainable params: 0\n",
            "_________________________________________________________________\n",
            "Fitting...\n",
            "Train on 25000 samples, validate on 25000 samples\n",
            "Epoch 1/10\n",
            "25000/25000 [==============================] - 17s 680us/step - loss: 0.4987 - acc: 0.8487 - val_loss: 0.4607 - val_acc: 0.8620\n",
            "Epoch 2/10\n",
            "25000/25000 [==============================] - 16s 657us/step - loss: 0.4366 - acc: 0.8737 - val_loss: 0.4451 - val_acc: 0.8679\n",
            "Epoch 3/10\n",
            "25000/25000 [==============================] - 16s 658us/step - loss: 0.4208 - acc: 0.8817 - val_loss: 0.4482 - val_acc: 0.8606\n",
            "Epoch 4/10\n",
            "25000/25000 [==============================] - 17s 663us/step - loss: 0.4154 - acc: 0.8789 - val_loss: 0.4423 - val_acc: 0.8627\n",
            "Epoch 5/10\n",
            "25000/25000 [==============================] - 17s 663us/step - loss: 0.4087 - acc: 0.8815 - val_loss: 0.4323 - val_acc: 0.8654\n",
            "Epoch 6/10\n",
            "25000/25000 [==============================] - 17s 665us/step - loss: 0.3962 - acc: 0.8851 - val_loss: 0.4231 - val_acc: 0.8694\n",
            "Epoch 7/10\n",
            "25000/25000 [==============================] - 16s 658us/step - loss: 0.3951 - acc: 0.8830 - val_loss: 0.4158 - val_acc: 0.8708\n",
            "Epoch 8/10\n",
            "25000/25000 [==============================] - 16s 656us/step - loss: 0.3883 - acc: 0.8850 - val_loss: 0.4503 - val_acc: 0.8533\n",
            "Epoch 9/10\n",
            "25000/25000 [==============================] - 17s 662us/step - loss: 0.3833 - acc: 0.8882 - val_loss: 0.4132 - val_acc: 0.8700\n",
            "Epoch 10/10\n",
            "25000/25000 [==============================] - 16s 657us/step - loss: 0.3796 - acc: 0.8874 - val_loss: 0.4253 - val_acc: 0.8655\n",
            "Accuracy (epoch 7): 0.8830 train, 0.8708 val\n"
          ],
          "name": "stdout"
        }
      ]
    },
    {
      "metadata": {
        "id": "hUfCSWU3-9Rh",
        "colab_type": "text"
      },
      "cell_type": "markdown",
      "source": [
        "## GloVe-based Model (let's start with averaging)"
      ]
    },
    {
      "metadata": {
        "id": "AwWSvDJK-9Rj",
        "colab_type": "text"
      },
      "cell_type": "markdown",
      "source": [
        "Download and extract the official pre-trained GloVe matrix:"
      ]
    },
    {
      "metadata": {
        "id": "oh_CHorSBRjN",
        "colab_type": "code",
        "colab": {
          "base_uri": "https://localhost:8080/",
          "height": 289
        },
        "outputId": "fe190bff-494f-4041-dd19-8914c802c0d8"
      },
      "cell_type": "code",
      "source": [
        "! wget https://nlp.stanford.edu/data/glove.6B.zip\n",
        "! unzip glove.6B.zip\n"
      ],
      "execution_count": 17,
      "outputs": [
        {
          "output_type": "stream",
          "text": [
            "--2019-02-21 23:03:50--  https://nlp.stanford.edu/data/glove.6B.zip\n",
            "Resolving nlp.stanford.edu (nlp.stanford.edu)... 171.64.67.140\n",
            "Connecting to nlp.stanford.edu (nlp.stanford.edu)|171.64.67.140|:443... connected.\n",
            "HTTP request sent, awaiting response... 200 OK\n",
            "Length: 862182613 (822M) [application/zip]\n",
            "Saving to: ‘glove.6B.zip’\n",
            "\n",
            "glove.6B.zip        100%[===================>] 822.24M  5.56MB/s    in 3m 26s  \n",
            "\n",
            "2019-02-21 23:07:16 (4.00 MB/s) - ‘glove.6B.zip’ saved [862182613/862182613]\n",
            "\n",
            "Archive:  glove.6B.zip\n",
            "  inflating: glove.6B.50d.txt        \n",
            "  inflating: glove.6B.100d.txt       \n",
            "  inflating: glove.6B.200d.txt       \n",
            "  inflating: glove.6B.300d.txt       \n"
          ],
          "name": "stdout"
        }
      ]
    },
    {
      "metadata": {
        "id": "T_VJISCtBX5p",
        "colab_type": "text"
      },
      "cell_type": "markdown",
      "source": [
        "We decided to use GloVe over word2vec as in our experience, GloVe carries word semantics better and works better in semantic-sensitive tasks.  But the difference is not huge."
      ]
    },
    {
      "metadata": {
        "id": "fHrfYbfV-9Rq",
        "colab_type": "text"
      },
      "cell_type": "markdown",
      "source": [
        "### Loading GloVe vocabulary"
      ]
    },
    {
      "metadata": {
        "id": "CgWxaO8I-9Rs",
        "colab_type": "text"
      },
      "cell_type": "markdown",
      "source": [
        "You may need to restart your kernel here if you don't have a lot of free memory, to get rid of the bag-of-words vectors from before."
      ]
    },
    {
      "metadata": {
        "id": "FzCS4vLE-9Ru",
        "colab_type": "code",
        "colab": {}
      },
      "cell_type": "code",
      "source": [
        "# Embedding dimension means how many elements each word vector has.\n",
        "# Common values are 50 and 300.  Generally, larger vectors have more\n",
        "# capacity to carry information (meaning).  But the training process\n",
        "# is slower, both vectors and further layers take more memory, and\n",
        "# there could be higher risk of overfitting.\n",
        "EMBEDDING_DIM = 50"
      ],
      "execution_count": 0,
      "outputs": []
    },
    {
      "metadata": {
        "id": "1pH6j5q5-9Ry",
        "colab_type": "code",
        "colab": {
          "base_uri": "https://localhost:8080/",
          "height": 51
        },
        "outputId": "5058940e-f81d-4af4-df5e-4b0e6a912f4f"
      },
      "cell_type": "code",
      "source": [
        "# let's create a dictionary of each word in the pre-trained GloVe embeddings, saving its location indexes \n",
        "import os\n",
        "from tqdm import tqdm\n",
        "GLOVE_DIR = \".\"\n",
        "embeddings_index = {}\n",
        "f = open(os.path.join(GLOVE_DIR, 'glove.6B.%dd.txt' % EMBEDDING_DIM))\n",
        "for line in tqdm(f):\n",
        "    values = line.split()\n",
        "    word = values[0]\n",
        "    coefs = np.asarray(values[1:], dtype='float32')\n",
        "    embeddings_index[word] = coefs\n",
        "f.close()\n",
        "\n",
        "print('Found %s word vectors.' % len(embeddings_index))"
      ],
      "execution_count": 19,
      "outputs": [
        {
          "output_type": "stream",
          "text": [
            "400000it [00:05, 78652.60it/s]"
          ],
          "name": "stderr"
        },
        {
          "output_type": "stream",
          "text": [
            "Found 400000 word vectors.\n"
          ],
          "name": "stdout"
        },
        {
          "output_type": "stream",
          "text": [
            "\n"
          ],
          "name": "stderr"
        }
      ]
    },
    {
      "metadata": {
        "id": "Kj-muSQo-9R4",
        "colab_type": "code",
        "colab": {}
      },
      "cell_type": "code",
      "source": [
        "# a matrix that is indexed by our vocabulary, containing\n",
        "# GloVe embedding for each vocabulary element\n",
        "embedding_matrix = np.zeros((len(vocab) + 1, EMBEDDING_DIM))\n",
        "for i, word in enumerate(vocab):\n",
        "    embedding_vector = embeddings_index.get(word)\n",
        "    if embedding_vector is not None:\n",
        "        # words not found in embedding index will be all-zeros.\n",
        "        # also, [0] is reserved for padding\n",
        "        embedding_matrix[i + 1] = embedding_vector"
      ],
      "execution_count": 0,
      "outputs": []
    },
    {
      "metadata": {
        "id": "zTqCYB5n-9R7",
        "colab_type": "text"
      },
      "cell_type": "markdown",
      "source": [
        "Checking how many words have no pre-trained GloVe word embeddings:"
      ]
    },
    {
      "metadata": {
        "id": "h5zua3DU-9R8",
        "colab_type": "code",
        "colab": {},
        "outputId": "2ebd66c5-1bd6-4600-a04e-7c9eddca470a"
      },
      "cell_type": "code",
      "source": [
        "1. * np.count_nonzero(np.all(embedding_matrix == 0, axis=1)) / len(vocab)  # OOV portion"
      ],
      "execution_count": 0,
      "outputs": [
        {
          "output_type": "execute_result",
          "data": {
            "text/plain": [
              "0.0076"
            ]
          },
          "metadata": {
            "tags": []
          },
          "execution_count": 20
        }
      ]
    },
    {
      "metadata": {
        "id": "MtQ5rl0R-9SD",
        "colab_type": "text"
      },
      "cell_type": "markdown",
      "source": [
        "We are representing reviews as sequences now.  However, each sequence must have the same length on the input in Keras.  We will pad shorter sequences by zeroes from right, but what should be the maximum sequence length?  Let's find a compromise."
      ]
    },
    {
      "metadata": {
        "id": "PgQLKWwJ-9SF",
        "colab_type": "code",
        "colab": {},
        "outputId": "79a55060-a037-4ee2-d635-7f1a0e729ed1"
      },
      "cell_type": "code",
      "source": [
        "lengths = sorted([len(X) for X in X_train])\n",
        "percentile = 0.90\n",
        "seq_cutoff = lengths[int(len(lengths)*percentile)]\n",
        "print('Longest: %d, Average: %f, Median: %d, %d%% percentile: %d tokens' % (lengths[-1], np.mean(lengths), lengths[int(len(lengths)*0.5)], percentile*100, seq_cutoff))"
      ],
      "execution_count": 0,
      "outputs": [
        {
          "output_type": "stream",
          "text": [
            "Longest: 2470, Average: 233.778560, Median: 174, 90% percentile: 458 tokens\n"
          ],
          "name": "stdout"
        }
      ]
    },
    {
      "metadata": {
        "id": "YTymg3Ex-9SP",
        "colab_type": "code",
        "colab": {}
      },
      "cell_type": "code",
      "source": [
        "def vocab_indices_vector(tokens):\n",
        "    vector = [0] * seq_cutoff\n",
        "    if len(tokens) > seq_cutoff:\n",
        "        # Remove the middle\n",
        "        tokens = tokens[: seq_cutoff // 2] + ['SINGLE_PADDING_IN_THE_MIDDLE'] + tokens[-seq_cutoff // 2 :]\n",
        "    for i, t in enumerate(tokens):\n",
        "        try:\n",
        "            vector[i] = vocab.index(t) + 1  # reserving 0 for padding\n",
        "        except:\n",
        "            pass  # ignore missing words\n",
        "    return vector"
      ],
      "execution_count": 0,
      "outputs": []
    },
    {
      "metadata": {
        "id": "VhwByKqy-9SU",
        "colab_type": "code",
        "colab": {}
      },
      "cell_type": "code",
      "source": [
        "X_indices_train = [vocab_indices_vector(x) for x in X_train]\n",
        "X_indices_val = [vocab_indices_vector(x) for x in X_val]"
      ],
      "execution_count": 0,
      "outputs": []
    },
    {
      "metadata": {
        "id": "f56NxPuV-9SZ",
        "colab_type": "text"
      },
      "cell_type": "markdown",
      "source": [
        "### GloVe averaging model"
      ]
    },
    {
      "metadata": {
        "scrolled": true,
        "id": "SdZZveHW-9Sa",
        "colab_type": "code",
        "colab": {},
        "outputId": "664f532d-f522-4fb7-abd7-5e30fc6b2321"
      },
      "cell_type": "code",
      "source": [
        "from keras.layers import Activation, GlobalAveragePooling1D, Dense, Embedding, Input\n",
        "from keras.models import Model\n",
        "import numpy as np\n",
        "\n",
        "class GloveAvgSentimentModel(object):\n",
        "    def __init__(self):\n",
        "        self.model = self.create()\n",
        "        self.model.summary()\n",
        "        self.model.compile(optimizer='adam', loss='binary_crossentropy', metrics=['accuracy'])\n",
        "        \n",
        "    def create(self):\n",
        "        seq_indices = Input(shape=(seq_cutoff,), name='seq_input')                    \n",
        "        seq_embedded = Embedding(input_dim=len(vocab) + 1, output_dim=EMBEDDING_DIM, weights=[embedding_matrix],\n",
        "                                 input_length=seq_cutoff, trainable=False)(seq_indices)\n",
        "        avg_embedded = GlobalAveragePooling1D()(seq_embedded)\n",
        "        sentiment = Dense(1, activation='sigmoid')(avg_embedded)\n",
        "\n",
        "        return Model(inputs=[seq_indices], outputs=[sentiment])\n",
        "\n",
        "    def train(self, X, y, X_val, y_val):\n",
        "        print('Fitting...')\n",
        "        return self.model.fit(np.array(X, dtype='int32'), y,\n",
        "                              validation_data=(np.array(X_val, dtype='int32'), y_val), epochs=10, verbose=1)\n",
        "\n",
        "    def predict(self, X):\n",
        "        return self.model.predict(np.array(X))\n",
        "    \n",
        "sentiment = GloveAvgSentimentModel()\n",
        "history = sentiment.train(X_indices_train, y_train, X_indices_val, y_val)\n",
        "best_train_history(history)"
      ],
      "execution_count": 0,
      "outputs": [
        {
          "output_type": "stream",
          "text": [
            "_________________________________________________________________\n",
            "Layer (type)                 Output Shape              Param #   \n",
            "=================================================================\n",
            "seq_input (InputLayer)       (None, 458)               0         \n",
            "_________________________________________________________________\n",
            "embedding_1 (Embedding)      (None, 458, 50)           250050    \n",
            "_________________________________________________________________\n",
            "global_average_pooling1d_1 ( (None, 50)                0         \n",
            "_________________________________________________________________\n",
            "dense_6 (Dense)              (None, 1)                 51        \n",
            "=================================================================\n",
            "Total params: 250,101\n",
            "Trainable params: 51\n",
            "Non-trainable params: 250,050\n",
            "_________________________________________________________________\n",
            "Fitting...\n",
            "['seq_input']\n",
            "['dense_6']\n",
            "['seq_input']\n",
            "['dense_6']\n",
            "Train on 25000 samples, validate on 25000 samples\n",
            "Epoch 1/10\n",
            "25000/25000 [==============================] - 3s 133us/step - loss: 0.6879 - acc: 0.5726 - val_loss: 0.6785 - val_acc: 0.6280\n",
            "Epoch 2/10\n",
            "25000/25000 [==============================] - 3s 125us/step - loss: 0.6704 - acc: 0.6473 - val_loss: 0.6655 - val_acc: 0.6472\n",
            "Epoch 3/10\n",
            "25000/25000 [==============================] - 3s 125us/step - loss: 0.6581 - acc: 0.6589 - val_loss: 0.6551 - val_acc: 0.6557\n",
            "Epoch 4/10\n",
            "25000/25000 [==============================] - 3s 123us/step - loss: 0.6482 - acc: 0.6655 - val_loss: 0.6470 - val_acc: 0.6612\n",
            "Epoch 5/10\n",
            "25000/25000 [==============================] - 3s 124us/step - loss: 0.6402 - acc: 0.6713 - val_loss: 0.6401 - val_acc: 0.6670\n",
            "Epoch 6/10\n",
            "25000/25000 [==============================] - 3s 125us/step - loss: 0.6335 - acc: 0.6774 - val_loss: 0.6342 - val_acc: 0.6721\n",
            "Epoch 7/10\n",
            "25000/25000 [==============================] - 3s 124us/step - loss: 0.6276 - acc: 0.6819 - val_loss: 0.6291 - val_acc: 0.6760\n",
            "Epoch 8/10\n",
            "25000/25000 [==============================] - 3s 124us/step - loss: 0.6225 - acc: 0.6856 - val_loss: 0.6245 - val_acc: 0.6800\n",
            "Epoch 9/10\n",
            "25000/25000 [==============================] - 3s 125us/step - loss: 0.6178 - acc: 0.6881 - val_loss: 0.6203 - val_acc: 0.6847\n",
            "Epoch 10/10\n",
            "25000/25000 [==============================] - 3s 123us/step - loss: 0.6137 - acc: 0.6929 - val_loss: 0.6165 - val_acc: 0.6879\n",
            "Accuracy (epoch 10): 0.6929 train, 0.6879 val\n"
          ],
          "name": "stdout"
        }
      ]
    },
    {
      "metadata": {
        "id": "9-Brswov-9Sh",
        "colab_type": "text"
      },
      "cell_type": "markdown",
      "source": [
        "Questions:\n",
        "  * Predict sentiment from mean embedding, or mean sentiment from each embedding?\n",
        "  * Projection to a latent \"sentiment predictive\" vector space first?\n",
        "  \n",
        "Other ideas (for pretty much all further models):\n",
        "  * Trainable embeddings?\n",
        "  * ...what about embeddings from scratch, by the way?\n",
        "  * Just more epochs?\n",
        "\n",
        "Advanced idea:\n",
        "  * Could we visualize importance of individual words towards the predicted sentiment?"
      ]
    },
    {
      "metadata": {
        "id": "YP67FQAl-9Sh",
        "colab_type": "text"
      },
      "cell_type": "markdown",
      "source": [
        "### Maximum in a \"sentiment predictive\" space"
      ]
    },
    {
      "metadata": {
        "scrolled": true,
        "id": "kReH2-iD-9Si",
        "colab_type": "code",
        "colab": {},
        "outputId": "0cecc686-2d5b-44ff-df32-97e0982f1925"
      },
      "cell_type": "code",
      "source": [
        "from keras.layers import Activation, GlobalMaxPooling1D, Dense, Embedding, Input\n",
        "from keras.models import Model\n",
        "import numpy as np\n",
        "\n",
        "class GloveHiddenMaxSentimentModel(object):\n",
        "    def __init__(self, N=64):\n",
        "        self.model = self.create(N)\n",
        "        self.model.summary()\n",
        "        self.model.compile(optimizer='adam', loss='binary_crossentropy', metrics=['accuracy'])\n",
        "        \n",
        "    def create(self, N):\n",
        "        seq_indices = Input(shape=(seq_cutoff,), name='seq_input')                    \n",
        "        seq_embedded = Embedding(input_dim=len(vocab) + 1, output_dim=EMBEDDING_DIM, weights=[embedding_matrix],\n",
        "                                 input_length=seq_cutoff, trainable=False)(seq_indices)\n",
        "        seq_hidden = Dense(N, activation='tanh')(seq_embedded)\n",
        "        max_hidden = GlobalMaxPooling1D()(seq_hidden)\n",
        "        sentiment = Dense(1, activation='sigmoid')(max_hidden)\n",
        "\n",
        "        return Model(inputs=[seq_indices], outputs=[sentiment])\n",
        "\n",
        "    def train(self, X, y, X_val, y_val):\n",
        "        print('Fitting...')\n",
        "        return self.model.fit(np.array(X, dtype='int32'), y,\n",
        "                              validation_data=(np.array(X_val, dtype='int32'), y_val), epochs=10, verbose=1)\n",
        "\n",
        "    def predict(self, X):\n",
        "        return self.model.predict(np.array(X))\n",
        "    \n",
        "sentiment = GloveHiddenMaxSentimentModel()\n",
        "history = sentiment.train(X_indices_train, y_train, X_indices_val, y_val)\n",
        "best_train_history(history)"
      ],
      "execution_count": 0,
      "outputs": [
        {
          "output_type": "stream",
          "text": [
            "_________________________________________________________________\n",
            "Layer (type)                 Output Shape              Param #   \n",
            "=================================================================\n",
            "seq_input (InputLayer)       (None, 458)               0         \n",
            "_________________________________________________________________\n",
            "embedding_2 (Embedding)      (None, 458, 50)           250050    \n",
            "_________________________________________________________________\n",
            "dense_7 (Dense)              (None, 458, 64)           3264      \n",
            "_________________________________________________________________\n",
            "global_max_pooling1d_1 (Glob (None, 64)                0         \n",
            "_________________________________________________________________\n",
            "dense_8 (Dense)              (None, 1)                 65        \n",
            "=================================================================\n",
            "Total params: 253,379\n",
            "Trainable params: 3,329\n",
            "Non-trainable params: 250,050\n",
            "_________________________________________________________________\n",
            "Fitting...\n",
            "['seq_input']\n",
            "['dense_8']\n",
            "['seq_input']\n",
            "['dense_8']\n",
            "Train on 25000 samples, validate on 25000 samples\n",
            "Epoch 1/10\n",
            "25000/25000 [==============================] - 4s 155us/step - loss: 0.5546 - acc: 0.7292 - val_loss: 0.4599 - val_acc: 0.7936\n",
            "Epoch 2/10\n",
            "25000/25000 [==============================] - 4s 144us/step - loss: 0.4316 - acc: 0.8094 - val_loss: 0.4171 - val_acc: 0.8119\n",
            "Epoch 3/10\n",
            "25000/25000 [==============================] - 4s 145us/step - loss: 0.3946 - acc: 0.8284 - val_loss: 0.4106 - val_acc: 0.8125\n",
            "Epoch 4/10\n",
            "25000/25000 [==============================] - 4s 147us/step - loss: 0.3717 - acc: 0.8409 - val_loss: 0.3843 - val_acc: 0.8272\n",
            "Epoch 5/10\n",
            "25000/25000 [==============================] - 4s 146us/step - loss: 0.3566 - acc: 0.8474 - val_loss: 0.3786 - val_acc: 0.8289\n",
            "Epoch 6/10\n",
            "25000/25000 [==============================] - 4s 147us/step - loss: 0.3432 - acc: 0.8526 - val_loss: 0.3736 - val_acc: 0.8318\n",
            "Epoch 7/10\n",
            "25000/25000 [==============================] - 4s 147us/step - loss: 0.3328 - acc: 0.8572 - val_loss: 0.3817 - val_acc: 0.8264\n",
            "Epoch 8/10\n",
            "25000/25000 [==============================] - 4s 145us/step - loss: 0.3251 - acc: 0.8625 - val_loss: 0.3688 - val_acc: 0.8352\n",
            "Epoch 9/10\n",
            "25000/25000 [==============================] - 4s 144us/step - loss: 0.3184 - acc: 0.8652 - val_loss: 0.3665 - val_acc: 0.8362\n",
            "Epoch 10/10\n",
            "25000/25000 [==============================] - 4s 145us/step - loss: 0.3121 - acc: 0.8683 - val_loss: 0.3675 - val_acc: 0.8357\n",
            "Accuracy (epoch 9): 0.8652 train, 0.8362 val\n"
          ],
          "name": "stdout"
        }
      ]
    },
    {
      "metadata": {
        "id": "mSIrpXsu-9Sm",
        "colab_type": "text"
      },
      "cell_type": "markdown",
      "source": [
        "Ideas:\n",
        "  * Averaging rather than maximum?\n",
        "  * Do other N values make a difference?"
      ]
    },
    {
      "metadata": {
        "id": "l32vkRE8-9Sn",
        "colab_type": "text"
      },
      "cell_type": "markdown",
      "source": [
        "## Convolutions on sequences of embeddings"
      ]
    },
    {
      "metadata": {
        "scrolled": true,
        "id": "mTTc1kwo-9So",
        "colab_type": "code",
        "colab": {},
        "outputId": "699cb6a6-6a28-437c-8d22-8d3880a0052e"
      },
      "cell_type": "code",
      "source": [
        "from keras.layers import Activation, Conv1D, Dense, Embedding, GlobalMaxPooling1D, Input\n",
        "from keras.models import Model\n",
        "import numpy as np\n",
        "\n",
        "class GloveCNNSentimentModel(object):\n",
        "    def __init__(self, N=64, size=3):\n",
        "        self.model = self.create(N, size)\n",
        "        self.model.summary()\n",
        "        self.model.compile(optimizer='adam', loss='binary_crossentropy', metrics=['accuracy'])\n",
        "        \n",
        "    def create(self, N, size):\n",
        "        seq_indices = Input(shape=(seq_cutoff,), name='seq_input') \n",
        "        seq_embedded = Embedding(input_dim=len(vocab) + 1, output_dim=EMBEDDING_DIM, weights=[embedding_matrix],\n",
        "                                 input_length=seq_cutoff, trainable=False)(seq_indices)\n",
        "        seq_conv = Conv1D(N, size, activation='tanh')(seq_embedded)\n",
        "        max_conv = GlobalMaxPooling1D()(seq_conv)\n",
        "        hidden_repr = Dense(N, activation='tanh')(max_conv)\n",
        "        sentiment = Dense(1, activation='sigmoid')(hidden_repr)\n",
        "\n",
        "        return Model(inputs=[seq_indices], outputs=[sentiment])\n",
        "\n",
        "    def train(self, X, y, X_val, y_val):\n",
        "        print('Fitting...')\n",
        "        return self.model.fit(np.array(X, dtype='int32'), y,\n",
        "                              validation_data=(np.array(X_val, dtype='int32'), y_val), epochs=10, verbose=1)\n",
        "\n",
        "    def predict(self, X):\n",
        "        return self.model.predict(np.array(X))\n",
        "    \n",
        "sentiment = GloveCNNSentimentModel()\n",
        "history = sentiment.train(X_indices_train, y_train, X_indices_val, y_val)\n",
        "best_train_history(history)"
      ],
      "execution_count": 0,
      "outputs": [
        {
          "output_type": "stream",
          "text": [
            "_________________________________________________________________\n",
            "Layer (type)                 Output Shape              Param #   \n",
            "=================================================================\n",
            "seq_input (InputLayer)       (None, 458)               0         \n",
            "_________________________________________________________________\n",
            "embedding_3 (Embedding)      (None, 458, 50)           250050    \n",
            "_________________________________________________________________\n",
            "conv1d_1 (Conv1D)            (None, 456, 64)           9664      \n",
            "_________________________________________________________________\n",
            "global_max_pooling1d_2 (Glob (None, 64)                0         \n",
            "_________________________________________________________________\n",
            "dense_9 (Dense)              (None, 64)                4160      \n",
            "_________________________________________________________________\n",
            "dense_10 (Dense)             (None, 1)                 65        \n",
            "=================================================================\n",
            "Total params: 263,939\n",
            "Trainable params: 13,889\n",
            "Non-trainable params: 250,050\n",
            "_________________________________________________________________\n",
            "Fitting...\n",
            "['seq_input']\n",
            "['dense_10']\n",
            "['seq_input']\n",
            "['dense_10']\n",
            "Train on 25000 samples, validate on 25000 samples\n",
            "Epoch 1/10\n",
            "25000/25000 [==============================] - 6s 240us/step - loss: 0.4946 - acc: 0.7489 - val_loss: 0.4146 - val_acc: 0.8111\n",
            "Epoch 2/10\n",
            "25000/25000 [==============================] - 4s 168us/step - loss: 0.3692 - acc: 0.8385 - val_loss: 0.3745 - val_acc: 0.8340\n",
            "Epoch 3/10\n",
            "25000/25000 [==============================] - 4s 167us/step - loss: 0.3295 - acc: 0.8583 - val_loss: 0.4009 - val_acc: 0.8249\n",
            "Epoch 4/10\n",
            "25000/25000 [==============================] - 4s 167us/step - loss: 0.3007 - acc: 0.8734 - val_loss: 0.3925 - val_acc: 0.8296\n",
            "Epoch 5/10\n",
            "25000/25000 [==============================] - 4s 167us/step - loss: 0.2730 - acc: 0.8872 - val_loss: 0.3785 - val_acc: 0.8374\n",
            "Epoch 6/10\n",
            "25000/25000 [==============================] - 4s 168us/step - loss: 0.2498 - acc: 0.8979 - val_loss: 0.3955 - val_acc: 0.8358\n",
            "Epoch 7/10\n",
            "25000/25000 [==============================] - 4s 167us/step - loss: 0.2358 - acc: 0.9030 - val_loss: 0.4073 - val_acc: 0.8319\n",
            "Epoch 8/10\n",
            "25000/25000 [==============================] - 4s 168us/step - loss: 0.2138 - acc: 0.9129 - val_loss: 0.5104 - val_acc: 0.8086\n",
            "Epoch 9/10\n",
            "25000/25000 [==============================] - 4s 166us/step - loss: 0.2093 - acc: 0.9157 - val_loss: 0.4437 - val_acc: 0.8274\n",
            "Epoch 10/10\n",
            "25000/25000 [==============================] - 4s 168us/step - loss: 0.1935 - acc: 0.9227 - val_loss: 0.4514 - val_acc: 0.8310\n",
            "Accuracy (epoch 5): 0.8872 train, 0.8374 val\n"
          ],
          "name": "stdout"
        }
      ]
    },
    {
      "metadata": {
        "id": "YwdxR4-K-9Su",
        "colab_type": "text"
      },
      "cell_type": "markdown",
      "source": [
        "This model still sucks.  What problems does it have?\n",
        "\n",
        "But the model below is awesome.  (Stolen from Keras' `examples/imdb_cnn.py`.)\n",
        "  * What are the differences to the model above?\n",
        "  * What exactly makes it so awesome?\n",
        "  * Did we beat the bag-of-words baseline yet?"
      ]
    },
    {
      "metadata": {
        "scrolled": true,
        "id": "3J5yeVx5-9Sv",
        "colab_type": "code",
        "colab": {},
        "outputId": "2a2c7a86-396a-4a93-8959-e91cf3a5da60"
      },
      "cell_type": "code",
      "source": [
        "from keras.layers import Activation, Conv1D, Dense, Embedding, GlobalMaxPooling1D, Input\n",
        "from keras.models import Model\n",
        "import numpy as np\n",
        "\n",
        "class GloveCNNAwesomeSentimentModel(object):\n",
        "    def __init__(self, N=256, size=3):\n",
        "        self.model = self.create(N, size)\n",
        "        self.model.summary()\n",
        "        self.model.compile(optimizer='adam', loss='binary_crossentropy', metrics=['accuracy'])\n",
        "        \n",
        "    def create(self, N, size):\n",
        "        seq_indices = Input(shape=(seq_cutoff,), name='seq_input') \n",
        "        seq_embedded = Embedding(input_dim=len(vocab) + 1, output_dim=EMBEDDING_DIM,\n",
        "                                 input_length=seq_cutoff)(seq_indices)\n",
        "        seq_conv = Conv1D(N, size, activation='relu')(Dropout(0.2)(seq_embedded))\n",
        "        max_conv = GlobalMaxPooling1D()(seq_conv)\n",
        "        hidden_repr = Dense(N, activation='relu')(max_conv)\n",
        "        sentiment = Dense(1, activation='sigmoid')(Dropout(0.2)(hidden_repr))\n",
        "\n",
        "        return Model(inputs=[seq_indices], outputs=[sentiment])\n",
        "\n",
        "    def train(self, X, y, X_val, y_val):\n",
        "        print('Fitting...')\n",
        "        return self.model.fit(np.array(X, dtype='int32'), y,\n",
        "                              validation_data=(np.array(X_val, dtype='int32'), y_val), epochs=10, verbose=1)\n",
        "\n",
        "    def predict(self, X):\n",
        "        return self.model.predict(np.array(X))\n",
        "    \n",
        "sentiment = GloveCNNAwesomeSentimentModel()\n",
        "history = sentiment.train(X_indices_train, y_train, X_indices_val, y_val)\n",
        "best_train_history(history)"
      ],
      "execution_count": 0,
      "outputs": [
        {
          "output_type": "stream",
          "text": [
            "_________________________________________________________________\n",
            "Layer (type)                 Output Shape              Param #   \n",
            "=================================================================\n",
            "seq_input (InputLayer)       (None, 458)               0         \n",
            "_________________________________________________________________\n",
            "embedding_4 (Embedding)      (None, 458, 50)           250050    \n",
            "_________________________________________________________________\n",
            "dropout_2 (Dropout)          (None, 458, 50)           0         \n",
            "_________________________________________________________________\n",
            "conv1d_2 (Conv1D)            (None, 456, 256)          38656     \n",
            "_________________________________________________________________\n",
            "global_max_pooling1d_3 (Glob (None, 256)               0         \n",
            "_________________________________________________________________\n",
            "dense_11 (Dense)             (None, 256)               65792     \n",
            "_________________________________________________________________\n",
            "dropout_3 (Dropout)          (None, 256)               0         \n",
            "_________________________________________________________________\n",
            "dense_12 (Dense)             (None, 1)                 257       \n",
            "=================================================================\n",
            "Total params: 354,755\n",
            "Trainable params: 354,755\n",
            "Non-trainable params: 0\n",
            "_________________________________________________________________\n",
            "Fitting...\n",
            "['seq_input']\n",
            "['dense_12']\n",
            "['seq_input']\n",
            "['dense_12']\n",
            "Train on 25000 samples, validate on 25000 samples\n",
            "Epoch 1/10\n",
            "25000/25000 [==============================] - 6s 241us/step - loss: 0.4191 - acc: 0.7960 - val_loss: 0.2955 - val_acc: 0.8770\n",
            "Epoch 2/10\n",
            "25000/25000 [==============================] - 6s 224us/step - loss: 0.2512 - acc: 0.8972 - val_loss: 0.2800 - val_acc: 0.8869\n",
            "Epoch 3/10\n",
            "25000/25000 [==============================] - 6s 222us/step - loss: 0.1829 - acc: 0.9278 - val_loss: 0.3035 - val_acc: 0.8794\n",
            "Epoch 4/10\n",
            "25000/25000 [==============================] - 6s 223us/step - loss: 0.1251 - acc: 0.9532 - val_loss: 0.3131 - val_acc: 0.8812\n",
            "Epoch 5/10\n",
            "25000/25000 [==============================] - 6s 225us/step - loss: 0.0889 - acc: 0.9672 - val_loss: 0.3449 - val_acc: 0.8795\n",
            "Epoch 6/10\n",
            "25000/25000 [==============================] - 6s 222us/step - loss: 0.0610 - acc: 0.9780 - val_loss: 0.4176 - val_acc: 0.8774\n",
            "Epoch 7/10\n",
            "25000/25000 [==============================] - 6s 221us/step - loss: 0.0499 - acc: 0.9812 - val_loss: 0.5348 - val_acc: 0.8638\n",
            "Epoch 8/10\n",
            "25000/25000 [==============================] - 6s 226us/step - loss: 0.0415 - acc: 0.9850 - val_loss: 0.4720 - val_acc: 0.8758\n",
            "Epoch 9/10\n",
            "25000/25000 [==============================] - 6s 224us/step - loss: 0.0351 - acc: 0.9878 - val_loss: 0.5985 - val_acc: 0.8618\n",
            "Epoch 10/10\n",
            "25000/25000 [==============================] - 6s 224us/step - loss: 0.0320 - acc: 0.9885 - val_loss: 0.5249 - val_acc: 0.8746\n",
            "Accuracy (epoch 2): 0.8972 train, 0.8869 val\n"
          ],
          "name": "stdout"
        }
      ]
    },
    {
      "metadata": {
        "id": "sQOd6dhh-9S8",
        "colab_type": "text"
      },
      "cell_type": "markdown",
      "source": [
        "Can we make the model more awesome yet?\n",
        "\n",
        "Ideas:\n",
        "  * So what about the Glove pretrained embeddings?\n",
        "  * Project the embeddings to a more convolution-friendly space?\n",
        "  * Average pooling instead of max?\n",
        "  * Is 300D embedding better?\n",
        "  \n",
        "Advanced ideas:\n",
        "  * What about _both_ average and max pooling?\n",
        "  * `relu` activation is popular in computer vision CNNs instead of `tanh`.\n",
        "  * Some people recommend `rmsprop` optimizer rather than `adam` for CNNs. Does it matter?"
      ]
    },
    {
      "metadata": {
        "id": "fcuz_-sZ-9S9",
        "colab_type": "text"
      },
      "cell_type": "markdown",
      "source": [
        "## Recurrence on sequences of embeddings"
      ]
    },
    {
      "metadata": {
        "scrolled": true,
        "id": "BWQFFtaz-9S_",
        "colab_type": "code",
        "colab": {},
        "outputId": "c95af15b-a8fe-4358-ec29-26db406b69f5"
      },
      "cell_type": "code",
      "source": [
        "from keras.layers import Activation, Dense, Embedding, GRU, Input\n",
        "from keras.models import Model\n",
        "import numpy as np\n",
        "\n",
        "class GloveGRUSentimentModel(object):\n",
        "    def __init__(self, N=64):\n",
        "        self.model = self.create(N)\n",
        "        self.model.summary()\n",
        "        self.model.compile(optimizer='adam', loss='binary_crossentropy', metrics=['accuracy'])\n",
        "        \n",
        "    def create(self, N):\n",
        "        seq_indices = Input(shape=(seq_cutoff,), name='seq_input') \n",
        "        seq_embedded = Embedding(input_dim=len(vocab) + 1, output_dim=EMBEDDING_DIM, weights=[embedding_matrix],\n",
        "                                 input_length=seq_cutoff, trainable=False)(seq_indices)\n",
        "        recursive_repr = GRU(N)(seq_embedded)\n",
        "        sentiment = Dense(1, activation='sigmoid')(recursive_repr)\n",
        "\n",
        "        return Model(inputs=[seq_indices], outputs=[sentiment])\n",
        "\n",
        "    def train(self, X, y, X_val, y_val):\n",
        "        print('Fitting...')\n",
        "        return self.model.fit(np.array(X, dtype='int32'), y,\n",
        "                              validation_data=(np.array(X_val, dtype='int32'), y_val), epochs=10, verbose=1)\n",
        "\n",
        "    def predict(self, X):\n",
        "        return self.model.predict(np.array(X))\n",
        "    \n",
        "sentiment = GloveGRUSentimentModel()\n",
        "history = sentiment.train(X_indices_train, y_train, X_indices_val, y_val)\n",
        "best_train_history(history)"
      ],
      "execution_count": 0,
      "outputs": [
        {
          "output_type": "stream",
          "text": [
            "_________________________________________________________________\n",
            "Layer (type)                 Output Shape              Param #   \n",
            "=================================================================\n",
            "seq_input (InputLayer)       (None, 458)               0         \n",
            "_________________________________________________________________\n",
            "embedding_5 (Embedding)      (None, 458, 50)           250050    \n",
            "_________________________________________________________________\n",
            "gru_1 (GRU)                  (None, 64)                22080     \n",
            "_________________________________________________________________\n",
            "dense_13 (Dense)             (None, 1)                 65        \n",
            "=================================================================\n",
            "Total params: 272,195\n",
            "Trainable params: 22,145\n",
            "Non-trainable params: 250,050\n",
            "_________________________________________________________________\n",
            "Fitting...\n",
            "['seq_input']\n",
            "['dense_13']\n",
            "['seq_input']\n",
            "['dense_13']\n",
            "Train on 25000 samples, validate on 25000 samples\n",
            "Epoch 1/10\n",
            "25000/25000 [==============================] - 540s 22ms/step - loss: 0.6910 - acc: 0.5092 - val_loss: 0.6826 - val_acc: 0.5236\n",
            "Epoch 2/10\n",
            "25000/25000 [==============================] - 536s 21ms/step - loss: 0.5446 - acc: 0.6851 - val_loss: 0.4029 - val_acc: 0.8170\n",
            "Epoch 3/10\n",
            "25000/25000 [==============================] - 527s 21ms/step - loss: 0.3816 - acc: 0.8287 - val_loss: 0.3633 - val_acc: 0.8353\n",
            "Epoch 4/10\n",
            "25000/25000 [==============================] - 527s 21ms/step - loss: 0.3472 - acc: 0.8488 - val_loss: 0.3377 - val_acc: 0.8502\n",
            "Epoch 5/10\n",
            "25000/25000 [==============================] - 518s 21ms/step - loss: 0.3239 - acc: 0.8586 - val_loss: 0.3275 - val_acc: 0.8560\n",
            "Epoch 6/10\n",
            "25000/25000 [==============================] - 523s 21ms/step - loss: 0.3009 - acc: 0.8702 - val_loss: 0.3432 - val_acc: 0.8504\n",
            "Epoch 7/10\n",
            "25000/25000 [==============================] - 526s 21ms/step - loss: 0.2890 - acc: 0.8768 - val_loss: 0.3201 - val_acc: 0.8607\n",
            "Epoch 8/10\n",
            "25000/25000 [==============================] - 520s 21ms/step - loss: 0.2680 - acc: 0.8852 - val_loss: 0.3279 - val_acc: 0.8537\n",
            "Epoch 9/10\n",
            "25000/25000 [==============================] - 524s 21ms/step - loss: 0.2549 - acc: 0.8939 - val_loss: 0.3133 - val_acc: 0.8665\n",
            "Epoch 10/10\n",
            "25000/25000 [==============================] - 529s 21ms/step - loss: 0.2428 - acc: 0.9001 - val_loss: 0.3242 - val_acc: 0.8631\n",
            "Accuracy (epoch 9): 0.8939 train, 0.8665 val\n"
          ],
          "name": "stdout"
        }
      ]
    },
    {
      "metadata": {
        "id": "utKczfdI-9TE",
        "colab_type": "text"
      },
      "cell_type": "markdown",
      "source": [
        "If you take the time to train the model, it seems to really suck after the first epoch.  What could be the problem?  (Imagine the input, and how the RNN processes it.)"
      ]
    },
    {
      "metadata": {
        "id": "9ey9CBLy-9TF",
        "colab_type": "text"
      },
      "cell_type": "markdown",
      "source": [
        "The model below fixes the problem - how?  What is the most essential change?"
      ]
    },
    {
      "metadata": {
        "scrolled": true,
        "id": "ObCeEzVF-9TI",
        "colab_type": "code",
        "colab": {},
        "outputId": "e1c44011-0fbf-4c10-e13c-3a18e55a5516"
      },
      "cell_type": "code",
      "source": [
        "from keras.layers import Activation, Bidirectional, Dense, Embedding, GRU, Input\n",
        "from keras.models import Model\n",
        "import numpy as np\n",
        "\n",
        "class GloveGRUSentimentModel(object):\n",
        "    def __init__(self, N=64):\n",
        "        self.model = self.create(N)\n",
        "        self.model.summary()\n",
        "        self.model.compile(optimizer='adam', loss='binary_crossentropy', metrics=['accuracy'])\n",
        "        \n",
        "    def create(self, N):\n",
        "        seq_indices = Input(shape=(seq_cutoff,), name='seq_input') \n",
        "        seq_embedded = Embedding(input_dim=len(vocab) + 1, output_dim=EMBEDDING_DIM, weights=[embedding_matrix],\n",
        "                                 input_length=seq_cutoff, mask_zero=True)(seq_indices)\n",
        "        recursive_repr = Bidirectional(GRU(N))(seq_embedded)\n",
        "        sentiment = Dense(1, activation='sigmoid')(recursive_repr)\n",
        "\n",
        "        return Model(inputs=[seq_indices], outputs=[sentiment])\n",
        "\n",
        "    def train(self, X, y, X_val, y_val):\n",
        "        print('Fitting...')\n",
        "        return self.model.fit(np.array(X, dtype='int32'), y,\n",
        "                              validation_data=(np.array(X_val, dtype='int32'), y_val), epochs=10, verbose=1,\n",
        "                             batch_size=128)\n",
        "\n",
        "    def predict(self, X):\n",
        "        return self.model.predict(np.array(X))\n",
        "    \n",
        "sentiment = GloveGRUSentimentModel()\n",
        "history = sentiment.train(X_indices_train, y_train, X_indices_val, y_val)\n",
        "best_train_history(history)"
      ],
      "execution_count": 0,
      "outputs": [
        {
          "output_type": "stream",
          "text": [
            "_________________________________________________________________\n",
            "Layer (type)                 Output Shape              Param #   \n",
            "=================================================================\n",
            "seq_input (InputLayer)       (None, 458)               0         \n",
            "_________________________________________________________________\n",
            "embedding_6 (Embedding)      (None, 458, 50)           250050    \n",
            "_________________________________________________________________\n",
            "bidirectional_1 (Bidirection (None, 128)               44160     \n",
            "_________________________________________________________________\n",
            "dense_14 (Dense)             (None, 1)                 129       \n",
            "=================================================================\n",
            "Total params: 294,339\n",
            "Trainable params: 294,339\n",
            "Non-trainable params: 0\n",
            "_________________________________________________________________\n",
            "Fitting...\n",
            "['seq_input']\n",
            "['dense_14']\n",
            "['seq_input']\n",
            "['dense_14']\n",
            "Train on 25000 samples, validate on 25000 samples\n",
            "Epoch 1/10\n",
            "25000/25000 [==============================] - 306s 12ms/step - loss: 0.5319 - acc: 0.7134 - val_loss: 0.3534 - val_acc: 0.8473\n",
            "Epoch 2/10\n",
            "25000/25000 [==============================] - 307s 12ms/step - loss: 0.3012 - acc: 0.8737 - val_loss: 0.2861 - val_acc: 0.8796\n",
            "Epoch 3/10\n",
            "25000/25000 [==============================] - 307s 12ms/step - loss: 0.2445 - acc: 0.9011 - val_loss: 0.3012 - val_acc: 0.8715\n",
            "Epoch 4/10\n",
            "25000/25000 [==============================] - 303s 12ms/step - loss: 0.2094 - acc: 0.9182 - val_loss: 0.2831 - val_acc: 0.8879\n",
            "Epoch 5/10\n",
            "25000/25000 [==============================] - 303s 12ms/step - loss: 0.1752 - acc: 0.9330 - val_loss: 0.3280 - val_acc: 0.8724\n",
            "Epoch 6/10\n",
            "25000/25000 [==============================] - 307s 12ms/step - loss: 0.1453 - acc: 0.9461 - val_loss: 0.3160 - val_acc: 0.8874\n",
            "Epoch 7/10\n",
            "25000/25000 [==============================] - 308s 12ms/step - loss: 0.1195 - acc: 0.9563 - val_loss: 0.3404 - val_acc: 0.8826\n",
            "Epoch 8/10\n",
            "25000/25000 [==============================] - 306s 12ms/step - loss: 0.0907 - acc: 0.9699 - val_loss: 0.3737 - val_acc: 0.8775\n",
            "Epoch 9/10\n",
            "25000/25000 [==============================] - 305s 12ms/step - loss: 0.0631 - acc: 0.9806 - val_loss: 0.4440 - val_acc: 0.8740\n",
            "Epoch 10/10\n",
            "25000/25000 [==============================] - 304s 12ms/step - loss: 0.0398 - acc: 0.9894 - val_loss: 0.5192 - val_acc: 0.8696\n",
            "Accuracy (epoch 4): 0.9182 train, 0.8879 val\n"
          ],
          "name": "stdout"
        }
      ]
    },
    {
      "metadata": {
        "id": "TCXUIMyN-9TO",
        "colab_type": "text"
      },
      "cell_type": "markdown",
      "source": [
        "We are overfitting.  Can we improve generalization?\n",
        "\n",
        "Ideas:\n",
        "  * `GRU(N, return_sequence=True)` would return a single output element for each input element, rather than a single output for the whole sequence.  What cool things could we use this for?\n",
        "  * Any ideas to borrow from CNNs?\n",
        "  * Could we stack multiple GRUs on top of each other?"
      ]
    },
    {
      "metadata": {
        "id": "y6PUAKrA-9TR",
        "colab_type": "text"
      },
      "cell_type": "markdown",
      "source": [
        "## Combining CNN and GRU"
      ]
    },
    {
      "metadata": {
        "id": "YsXZBfAa-9TT",
        "colab_type": "text"
      },
      "cell_type": "markdown",
      "source": [
        "Let's go wild and take a look at an even more advanced model combining several ideas.  Can you explain what's going on here? Is this madness worth it? Which further improvements might be most desirable to test?"
      ]
    },
    {
      "metadata": {
        "id": "HP3eGl6d-9TU",
        "colab_type": "code",
        "colab": {},
        "outputId": "c67afede-216a-46a3-8cae-48cbb5aab0f9"
      },
      "cell_type": "code",
      "source": [
        "from keras.layers import Activation, Bidirectional, Conv1D, Dense, Embedding, GlobalMaxPooling1D, GRU, Input, add\n",
        "from keras.models import Model\n",
        "import numpy as np\n",
        "\n",
        "class GloveCNNGRUSISentimentModel(object):\n",
        "    def __init__(self, N=64, size=3):\n",
        "        self.model = self.create(N, size)\n",
        "        self.model.summary()\n",
        "        self.model.compile(optimizer='adam', loss='binary_crossentropy', loss_weights=[0.2, 1.0], metrics=['accuracy'])\n",
        "        \n",
        "    def create(self, N, size):\n",
        "        seq_indices = Input(shape=(seq_cutoff,), name='seq_input') \n",
        "        seq_embedded = Embedding(input_dim=len(vocab) + 1, output_dim=EMBEDDING_DIM, weights=[embedding_matrix],\n",
        "                                 input_length=seq_cutoff)(seq_indices)\n",
        "        seq_hidden = Dense(N, activation='tanh')(Dropout(0.2)(seq_embedded))\n",
        "        \n",
        "        seq_conv = Conv1D(N, size, activation='tanh', padding='same')(Dropout(0.2)(seq_hidden))\n",
        "        # Residual skip-connection: The convolution just fine-tunes per-word Dense projection.\n",
        "        seq_hidden = add([seq_hidden, seq_conv])\n",
        "        \n",
        "        recursive_repr = Bidirectional(GRU(N))(seq_hidden)\n",
        "        sentiment = Dense(1, activation='sigmoid', name='sentiment')(recursive_repr)\n",
        "        \n",
        "        # Inception: Also try to make even the hidden representation good enough to predict sentiment.\n",
        "        max_hidden = GlobalMaxPooling1D()(seq_hidden)\n",
        "        sentiment_by_hidden = Dense(1, activation='sigmoid', name='sentiment_by_hidden')(max_hidden)\n",
        "\n",
        "        return Model(inputs=[seq_indices], outputs=[sentiment_by_hidden, sentiment])\n",
        "\n",
        "    def train(self, X, y, X_val, y_val):\n",
        "        print('Fitting...')\n",
        "        return self.model.fit(np.array(X, dtype='int32'), [np.array(y), np.array(y)],\n",
        "                              validation_data=(np.array(X_val, dtype='int32'),\n",
        "                                               [np.array(y_val), np.array(y_val)]),\n",
        "                              epochs=10, verbose=1)\n",
        "\n",
        "    def predict(self, X):\n",
        "        return self.model.predict(np.array(X))[-1:]\n",
        "    \n",
        "sentiment = GloveCNNGRUSISentimentModel()\n",
        "history = sentiment.train(X_indices_train, y_train, X_indices_val, y_val)"
      ],
      "execution_count": 0,
      "outputs": [
        {
          "output_type": "stream",
          "text": [
            "__________________________________________________________________________________________________\n",
            "Layer (type)                    Output Shape         Param #     Connected to                     \n",
            "==================================================================================================\n",
            "seq_input (InputLayer)          (None, 458)          0                                            \n",
            "__________________________________________________________________________________________________\n",
            "embedding_7 (Embedding)         (None, 458, 50)      250050      seq_input[0][0]                  \n",
            "__________________________________________________________________________________________________\n",
            "dropout_4 (Dropout)             (None, 458, 50)      0           embedding_7[0][0]                \n",
            "__________________________________________________________________________________________________\n",
            "dense_15 (Dense)                (None, 458, 64)      3264        dropout_4[0][0]                  \n",
            "__________________________________________________________________________________________________\n",
            "dropout_5 (Dropout)             (None, 458, 64)      0           dense_15[0][0]                   \n",
            "__________________________________________________________________________________________________\n",
            "conv1d_3 (Conv1D)               (None, 458, 64)      12352       dropout_5[0][0]                  \n",
            "__________________________________________________________________________________________________\n",
            "add_1 (Add)                     (None, 458, 64)      0           dense_15[0][0]                   \n",
            "                                                                 conv1d_3[0][0]                   \n",
            "__________________________________________________________________________________________________\n",
            "global_max_pooling1d_4 (GlobalM (None, 64)           0           add_1[0][0]                      \n",
            "__________________________________________________________________________________________________\n",
            "bidirectional_2 (Bidirectional) (None, 128)          49536       add_1[0][0]                      \n",
            "__________________________________________________________________________________________________\n",
            "sentiment_by_hidden (Dense)     (None, 1)            65          global_max_pooling1d_4[0][0]     \n",
            "__________________________________________________________________________________________________\n",
            "sentiment (Dense)               (None, 1)            129         bidirectional_2[0][0]            \n",
            "==================================================================================================\n",
            "Total params: 315,396\n",
            "Trainable params: 315,396\n",
            "Non-trainable params: 0\n",
            "__________________________________________________________________________________________________\n",
            "Fitting...\n",
            "['seq_input']\n",
            "['sentiment_by_hidden', 'sentiment']\n",
            "['seq_input']\n",
            "['sentiment_by_hidden', 'sentiment']\n",
            "Train on 25000 samples, validate on 25000 samples\n",
            "Epoch 1/10\n",
            "25000/25000 [==============================] - 1047s 42ms/step - loss: 0.5901 - sentiment_by_hidden_loss: 0.5373 - sentiment_loss: 0.4826 - sentiment_by_hidden_acc: 0.7392 - sentiment_acc: 0.7476 - val_loss: 0.4038 - val_sentiment_by_hidden_loss: 0.3823 - val_sentiment_loss: 0.3274 - val_sentiment_by_hidden_acc: 0.8323 - val_sentiment_acc: 0.8634\n",
            "Epoch 2/10\n",
            "25000/25000 [==============================] - 946s 38ms/step - loss: 0.3874 - sentiment_by_hidden_loss: 0.3742 - sentiment_loss: 0.3125 - sentiment_by_hidden_acc: 0.8425 - sentiment_acc: 0.8664 - val_loss: 0.3651 - val_sentiment_by_hidden_loss: 0.3371 - val_sentiment_loss: 0.2976 - val_sentiment_by_hidden_acc: 0.8588 - val_sentiment_acc: 0.8724\n",
            "Epoch 3/10\n",
            "25000/25000 [==============================] - 931s 37ms/step - loss: 0.3332 - sentiment_by_hidden_loss: 0.3287 - sentiment_loss: 0.2675 - sentiment_by_hidden_acc: 0.8644 - sentiment_acc: 0.8889 - val_loss: 0.3490 - val_sentiment_by_hidden_loss: 0.3193 - val_sentiment_loss: 0.2851 - val_sentiment_by_hidden_acc: 0.8656 - val_sentiment_acc: 0.8832\n",
            "Epoch 4/10\n",
            "25000/25000 [==============================] - 948s 38ms/step - loss: 0.3013 - sentiment_by_hidden_loss: 0.3011 - sentiment_loss: 0.2411 - sentiment_by_hidden_acc: 0.8757 - sentiment_acc: 0.9020 - val_loss: 0.3201 - val_sentiment_by_hidden_loss: 0.3130 - val_sentiment_loss: 0.2575 - val_sentiment_by_hidden_acc: 0.8685 - val_sentiment_acc: 0.8935\n",
            "Epoch 5/10\n",
            "25000/25000 [==============================] - 1038s 42ms/step - loss: 0.2738 - sentiment_by_hidden_loss: 0.2822 - sentiment_loss: 0.2173 - sentiment_by_hidden_acc: 0.8866 - sentiment_acc: 0.9147 - val_loss: 0.3215 - val_sentiment_by_hidden_loss: 0.3108 - val_sentiment_loss: 0.2593 - val_sentiment_by_hidden_acc: 0.8705 - val_sentiment_acc: 0.8962\n",
            "Epoch 6/10\n",
            "25000/25000 [==============================] - 1065s 43ms/step - loss: 0.2577 - sentiment_by_hidden_loss: 0.2716 - sentiment_loss: 0.2034 - sentiment_by_hidden_acc: 0.8904 - sentiment_acc: 0.9198 - val_loss: 0.3290 - val_sentiment_by_hidden_loss: 0.3118 - val_sentiment_loss: 0.2666 - val_sentiment_by_hidden_acc: 0.8706 - val_sentiment_acc: 0.8902\n",
            "Epoch 7/10\n",
            "25000/25000 [==============================] - 1038s 42ms/step - loss: 0.2325 - sentiment_by_hidden_loss: 0.2570 - sentiment_loss: 0.1811 - sentiment_by_hidden_acc: 0.8966 - sentiment_acc: 0.9308 - val_loss: 0.3355 - val_sentiment_by_hidden_loss: 0.3179 - val_sentiment_loss: 0.2719 - val_sentiment_by_hidden_acc: 0.8692 - val_sentiment_acc: 0.8940\n",
            "Epoch 8/10\n",
            "25000/25000 [==============================] - 1030s 41ms/step - loss: 0.2211 - sentiment_by_hidden_loss: 0.2480 - sentiment_loss: 0.1715 - sentiment_by_hidden_acc: 0.9011 - sentiment_acc: 0.9332 - val_loss: 0.3501 - val_sentiment_by_hidden_loss: 0.3197 - val_sentiment_loss: 0.2861 - val_sentiment_by_hidden_acc: 0.8723 - val_sentiment_acc: 0.8925\n",
            "Epoch 9/10\n",
            "12224/25000 [=============>................] - ETA: 7:11 - loss: 0.1980 - sentiment_by_hidden_loss: 0.2361 - sentiment_loss: 0.1508 - sentiment_by_hidden_acc: 0.9080 - sentiment_acc: 0.9431"
          ],
          "name": "stdout"
        }
      ]
    },
    {
      "metadata": {
        "id": "MBr6-9Z--9Td",
        "colab_type": "text"
      },
      "cell_type": "markdown",
      "source": [
        "Can we do even better? Yes - let's look at the literature.\n",
        "\n",
        "![image.png](attachment:image.png)\n",
        "\n",
        "...and https://arxiv.org/pdf/1605.07725.pdf (source of table above; 5.91%)"
      ]
    },
    {
      "metadata": {
        "id": "5WxfIXq0-9Te",
        "colab_type": "text"
      },
      "cell_type": "markdown",
      "source": [
        "Final challenge: What common idea is shared by all of the best models? Can you implement one of them based on what you learned today?"
      ]
    },
    {
      "metadata": {
        "id": "OqWwaj-r-9Tf",
        "colab_type": "code",
        "colab": {}
      },
      "cell_type": "code",
      "source": [
        ""
      ],
      "execution_count": 0,
      "outputs": []
    }
  ]
}